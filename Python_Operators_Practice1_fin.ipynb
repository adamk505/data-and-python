{
  "nbformat": 4,
  "nbformat_minor": 0,
  "metadata": {
    "colab": {
      "provenance": [],
      "include_colab_link": true
    },
    "kernelspec": {
      "name": "python3",
      "display_name": "Python 3"
    },
    "language_info": {
      "name": "python"
    }
  },
  "cells": [
    {
      "cell_type": "markdown",
      "metadata": {
        "id": "view-in-github",
        "colab_type": "text"
      },
      "source": [
        "<a href=\"https://colab.research.google.com/github/adamk505/data-and-python/blob/main/Python_Operators_Practice1_fin.ipynb\" target=\"_parent\"><img src=\"https://colab.research.google.com/assets/colab-badge.svg\" alt=\"Open In Colab\"/></a>"
      ]
    },
    {
      "cell_type": "markdown",
      "source": [
        "<a href=\"https://colab.research.google.com/github/StefanMeyer7/Python-Fundamentals/blob/main/Operators_Practice1.ipynb\" target=\"_parent\"><img src=\"https://colab.research.google.com/assets/colab-badge.svg\" alt=\"Open In Colab\"/></a>"
      ],
      "metadata": {
        "id": "hypbENCo_DGn"
      }
    },
    {
      "cell_type": "markdown",
      "source": [
        "# Operators - arithmetic\n",
        "\n",
        "---"
      ],
      "metadata": {
        "id": "EnRmdmB10Yj5"
      }
    },
    {
      "cell_type": "markdown",
      "source": [
        "In Python, we can use the following arithmetic operators:  \n",
        "\n",
        "![Python operators](https://drive.google.com/uc?id=1EARs0OefvMwAULyNGGs01xYLW3lIAO9B)\n",
        "\n",
        "\n",
        "\n",
        "\n",
        "\n",
        "\n",
        "\n",
        "\n",
        "\n"
      ],
      "metadata": {
        "id": "SoYibwgF0Zmv"
      }
    },
    {
      "cell_type": "markdown",
      "source": [
        "---\n",
        "### Exercise 1 - multiplication of integers\n",
        "Write a function called **print_dog_human_age()** which will:  \n",
        "\n",
        "*  ask the user to input their dog's age and assign this to an integer variable called **dog_age**  \n",
        "*  calculate the dog’s age in human years by multiplying it by 7, assigning it to a new variable called **dog_human_age**  \n",
        "*  print the age in human years (`dog_human_age`)    \n",
        "\n",
        "Test Input:  \n",
        "4  \n",
        "\n",
        "Expected output:  \n",
        "28\n"
      ],
      "metadata": {
        "id": "8cOdsuX00gRo"
      }
    },
    {
      "cell_type": "code",
      "source": [
        "def print_dog_human_age():\n",
        "  dog_age=int(input(\"Enter dog age: \"))\n",
        "  dog_human_age=dog_age*7\n",
        "  print(dog_human_age)\n",
        "\n",
        "print_dog_human_age()\n",
        "\n"
      ],
      "metadata": {
        "id": "7c2DtRBv0jp0",
        "colab": {
          "base_uri": "https://localhost:8080/"
        },
        "outputId": "b2454ccb-5a0f-4029-a7da-806676e989a6"
      },
      "execution_count": null,
      "outputs": [
        {
          "output_type": "stream",
          "name": "stdout",
          "text": [
            "Enter dog age: 4\n",
            "28\n"
          ]
        }
      ]
    },
    {
      "cell_type": "markdown",
      "source": [
        "---\n",
        "### Exercise 2 - BIDMAS\n",
        "Write a function called **calculate_average()** which will:  \n",
        "\n",
        "*  ask the user for 3 seperate numbers, **num1**, **num2**, **num3**  \n",
        "*  calculate the **average** of the three numbers\n",
        "*  print the `average`, rounded to 2 decimal places  \n",
        "\n",
        "*Hint 1:  to round a number, use round(), e.g. round(`average`)  *\n",
        "*Hint 2: remember the BIDMAS order of operators and use brackets to change the order if necessary.*  \n",
        "\n",
        "Test Input:  \n",
        "3  \n",
        "5  \n",
        "9  \n",
        "\n",
        "Expected output:  \n",
        "5.67"
      ],
      "metadata": {
        "id": "OUzlA9oT0lYN"
      }
    },
    {
      "cell_type": "code",
      "source": [
        "def calculate_average():\n",
        "  num1=float(input(\"Enter first number: \"))\n",
        "  num2=float(input(\"Enter second number: \"))\n",
        "  num3=float(input(\"Enter third number: \"))\n",
        "  average=(num1+num2+num3)/3\n",
        "  print(round(average, 2))\n",
        "\n",
        "calculate_average()"
      ],
      "metadata": {
        "id": "fycS5pTr0mWd",
        "colab": {
          "base_uri": "https://localhost:8080/"
        },
        "outputId": "90cc00a5-d431-435a-8ab2-6d7165cc1add"
      },
      "execution_count": null,
      "outputs": [
        {
          "output_type": "stream",
          "name": "stdout",
          "text": [
            "Enter first number: 3\n",
            "Enter second number: 5\n",
            "Enter third number: 9\n",
            "5.67\n"
          ]
        }
      ]
    },
    {
      "cell_type": "markdown",
      "source": [
        "---\n",
        "### Exercise 3 - BIDMAS\n",
        "\n",
        "Write a function called **calculate_avg_height()** which will:  \n",
        "\n",
        "*  ask the user to input their **height**  \n",
        "*  convert `height` to **height_centimeters** (multiply by 100)  \n",
        "*  print `height_centimeters`  \n",
        "\n",
        "*Remember, height in metres is usually a decimal, so data type matters*  \n",
        "\n",
        "Test Input:  \n",
        "1.67  \n",
        "\n",
        "Expected output:  \n",
        "167\n"
      ],
      "metadata": {
        "id": "f5przU_E0nJ4"
      }
    },
    {
      "cell_type": "code",
      "source": [
        "def calculate_avg_height():\n",
        "  height=float(input(\"Enter height in meters: \"))\n",
        "  height_centimeters=height*100\n",
        "  print(height_centimeters)\n",
        "\n",
        "calculate_avg_height()\n"
      ],
      "metadata": {
        "id": "fWJKIb8k0ory",
        "colab": {
          "base_uri": "https://localhost:8080/"
        },
        "outputId": "80220e8e-73fe-4a6d-d484-9c8f234e599f"
      },
      "execution_count": null,
      "outputs": [
        {
          "output_type": "stream",
          "name": "stdout",
          "text": [
            "Enter height in meters: 1.67\n",
            "167.0\n"
          ]
        }
      ]
    },
    {
      "cell_type": "markdown",
      "source": [
        "---\n",
        "### Exercise 4 - float and formatting printing\n",
        "\n",
        "At the time of writing, the exchange rate from Pounds (£) to Euros (€) is 1.16 (£1 = €1.16).\n",
        "\n",
        "Write a function called **convert_currency(**) which will:\n",
        "\n",
        "*  ask a user to input an amount in **pounds**  \n",
        "*  calculate the equivalent number of **euros**  \n",
        "*  print `euros`, rounded to 2 decimal places  \n",
        "\n",
        "Test Input:  \n",
        "£60\n",
        "\n",
        "Expected output:  \n",
        "€69.6  \n",
        "\n",
        "*Remember, pounds is likely to be a decimal number and that the user should not enter the £ sign.*"
      ],
      "metadata": {
        "id": "QYPvmjUY0qj5"
      }
    },
    {
      "cell_type": "code",
      "source": [
        "def convert_currency():\n",
        "  pounds=float(input(\"Enter amount in pounds: \"))\n",
        "  euros=pounds*1.16\n",
        "  print(\"€\",round(euros, 2))\n",
        "\n",
        "convert_currency()"
      ],
      "metadata": {
        "id": "csXus4bl0rdm",
        "colab": {
          "base_uri": "https://localhost:8080/"
        },
        "outputId": "12aa107f-64c5-4d21-8b64-4e1eb200dc14"
      },
      "execution_count": null,
      "outputs": [
        {
          "output_type": "stream",
          "name": "stdout",
          "text": [
            "Enter amount in pounds: 60\n",
            "€ 69.6\n"
          ]
        }
      ]
    },
    {
      "cell_type": "markdown",
      "source": [
        "---\n",
        "### Exercise 5 - rounding\n",
        "\n",
        "Write a function called **calculate_stats()** which will:  \n",
        "\n",
        "*  assign the numbers 3.145, 5.6723 and 9.34 to the variables **num1**, **num2** and **num3** respectively  \n",
        "*  calculate the **total** of the three numbers, rounded to 2 decimal places  \n",
        "*  calculate the **average** of the numbers, rounded to 3 decimal places  \n",
        "*  print `total` and `average` in a message that labels them.\n",
        "\n",
        "Expected output:\n",
        "\n",
        "The total of the three numbers is 18.16  \n",
        "The average of the three numbers is 6.053\n",
        "\n",
        "*Remember to calculate the average you divide the total by the quantity of numbers, e.g. total/3*\n"
      ],
      "metadata": {
        "id": "nWi9kpu_0sdX"
      }
    },
    {
      "cell_type": "code",
      "source": [
        "def calculate_stats():\n",
        "  num1=3.145\n",
        "  num2=5.6723\n",
        "  num3=9.34\n",
        "  total=num1+num2+num3\n",
        "  average=total/3\n",
        "  print(\"Total= \",round(total,2))\n",
        "  print(\"Average= \",round(average,3))\n",
        "\n",
        "calculate_stats()"
      ],
      "metadata": {
        "id": "j72MPPLN0tMs",
        "colab": {
          "base_uri": "https://localhost:8080/"
        },
        "outputId": "15541ec3-37a5-4a3f-e9c6-a79da4314915"
      },
      "execution_count": null,
      "outputs": [
        {
          "output_type": "stream",
          "name": "stdout",
          "text": [
            "Total=  18.16\n",
            "Average=  6.052\n"
          ]
        }
      ]
    },
    {
      "cell_type": "markdown",
      "source": [
        "---\n",
        "### Exercise 6 - calculating volume\n",
        "\n",
        "Bill is moving house. He needs to know how much space his cardboard packing boxes have.   \n",
        "\n",
        "Write a function called **calculate_volume()** which will:   \n",
        "\n",
        "*  assign the value 3.2, 5.6 and 7.8 to the variables **base**, **width** and **height** respectively  \n",
        "*  calculate the **box_volume** rounded to 1 decimal place  \n",
        "*  print the `box_volume`\n",
        "\n",
        "*Hint: volume = base x width x height*\n",
        "\n",
        "Expected output:  \n",
        "139.8\n"
      ],
      "metadata": {
        "id": "O2y1wwGp0uph"
      }
    },
    {
      "cell_type": "code",
      "source": [
        "def calculate_volume():\n",
        "  base=float(3.2)\n",
        "  width=float(5.6)\n",
        "  height=float(7.8)\n",
        "  box_volume=base*width*height\n",
        "  print(round(box_volume,1))\n",
        "\n",
        "calculate_volume()\n"
      ],
      "metadata": {
        "id": "0UMQ7wqU0vvp",
        "colab": {
          "base_uri": "https://localhost:8080/"
        },
        "outputId": "1962dcbf-e7a6-4c78-b241-0b0384ea1f36"
      },
      "execution_count": null,
      "outputs": [
        {
          "output_type": "stream",
          "name": "stdout",
          "text": [
            "139.8\n"
          ]
        }
      ]
    },
    {
      "cell_type": "markdown",
      "source": [
        "---\n",
        "***Floor Division***  \n",
        "*So far, we have been using standard arithmetic operators. If we would like to divide without remainders (eg. no decimals) we can use floor division using the // operator.  This will always round down*.  \n",
        "\n",
        "*For example*:  \n",
        "*42/8 = 5.75*  \n",
        "*BUT*  \n",
        "4*2//8 = 5*"
      ],
      "metadata": {
        "id": "0glFo12x0xP1"
      }
    },
    {
      "cell_type": "markdown",
      "source": [
        "---\n",
        "### Exercise 7 - calculating with volumes\n",
        "\n",
        "Bill needs to work out how many boxes he will need.  \n",
        "\n",
        "Building on what you did in the last exercise, write a function called **calculate_boxes(base, width, height)** which will:  \n",
        "\n",
        "*  calculate the volume of a box, using the **base**, **width** and **height** supplied in the brackets  \n",
        "*  ask Bill for the **total_volume** of his stuff  \n",
        "*  calculate the total **number_of_boxes** he will need, and print the `number_of_boxes`  \n",
        "\n",
        "*Hint: the `total` will not be a decimal number - you should use floor division and add one to the answer (for the box that will have the leftovers).*\n",
        "\n",
        "Test Input:  \n",
        "1500  \n",
        "\n",
        "Expected output:  \n",
        "11  \n"
      ],
      "metadata": {
        "id": "NLSvu6AE0zAv"
      }
    },
    {
      "cell_type": "code",
      "source": [
        "def calculate_boxes(base, width, height):\n",
        "  # add your code below here to calculate the boxVolume, ask for totalVolume and calculate number of boxes\n",
        "  box_volume=base*width*height\n",
        "  total_volume=float(input(\"Enter total volume here: \"))\n",
        "  number_of_boxes=total_volume//box_volume+1\n",
        "  print(number_of_boxes)\n",
        "\n",
        "calculate_boxes(3.2, 5.6, 7.8)\n"
      ],
      "metadata": {
        "id": "Xna4PbY90z8u",
        "colab": {
          "base_uri": "https://localhost:8080/"
        },
        "outputId": "fc48f0e0-0727-4c3a-99d5-d0db854211e2"
      },
      "execution_count": null,
      "outputs": [
        {
          "output_type": "stream",
          "name": "stdout",
          "text": [
            "Enter total volume here: 1500\n",
            "11.0\n"
          ]
        }
      ]
    },
    {
      "cell_type": "markdown",
      "source": [
        "---\n",
        "### Exercise 8 - rounding up\n",
        "\n",
        "Write a function called **calculate_parcel_weight()** which will:  \n",
        "\n",
        "*  ask the user to enter the weights, in kg, of four parcels (**weight1, weight2, weight3, weight4**)\n",
        "*  calculate the total **parcel_weight** and display this in a whole number of kg, **rounded up**  \n",
        "*  print the `parcel_weight`\n",
        "\n",
        "\n",
        "Test Inputs:  \n",
        "1.23  \n",
        "2.84  \n",
        "1.675  \n",
        "3.03  \n",
        "\n",
        "Expected output:  \n",
        "9kg\n"
      ],
      "metadata": {
        "id": "FugBpdSk02Pq"
      }
    },
    {
      "cell_type": "code",
      "source": [
        "import math\n",
        "def calculate_parcel_weight():\n",
        "  weight1=float(input(\"Enter Parcel weight: \"))\n",
        "  weight2=float(input(\"Enter Parcel weight: \"))\n",
        "  weight3=float(input(\"Enter Parcel weight: \"))\n",
        "  weight4=float(input(\"Enter Parcel weight: \"))\n",
        "  parcel_weight=weight1+weight2+weight3+weight4\n",
        "  print(math.ceil(parcel_weight))\n",
        "\n",
        "calculate_parcel_weight()"
      ],
      "metadata": {
        "id": "CZzLghON0311",
        "colab": {
          "base_uri": "https://localhost:8080/"
        },
        "outputId": "01b2cc73-1949-435b-97d1-54856f82fa45"
      },
      "execution_count": null,
      "outputs": [
        {
          "output_type": "stream",
          "name": "stdout",
          "text": [
            "Enter Parcel weight: 1.2\n",
            "Enter Parcel weight: 2.84\n",
            "Enter Parcel weight: 1.675\n",
            "Enter Parcel weight: 3.03\n",
            "9\n"
          ]
        }
      ]
    },
    {
      "cell_type": "markdown",
      "source": [
        "---\n",
        "### Exercise 9 - modulus\n",
        "\n",
        "Write a function called **get_pm_minutes()** which will:  \n",
        "\n",
        "*  ask the user to enter an afternoon **time** in 24 hour clock (e.g. 1350)\n",
        "*  use floor division to get the **hour** (ie divide by 100)  \n",
        "*  use modulus to get the **minutes**  \n",
        "*  subtract 12 to get the 12 hour clock storing the result back in `hour`      \n",
        "*  print a message to say that It is `minutes` minutes past `hour` PM\n",
        "\n",
        "Test Input:  \n",
        "1350  \n",
        "\n",
        "Expected output:  \n",
        "It is 50 minutes past 1 PM\n",
        "\n",
        "*(Is it possible to use this code to get the right hour for a morning time?  You will do this in the section that allows selection depending on value)*\n",
        "\n"
      ],
      "metadata": {
        "id": "6IO8QBaM05Ps"
      }
    },
    {
      "cell_type": "code",
      "source": [
        "def get_pm_minutes():\n",
        "  time=int(input(\"Enter time in 24 hr: \"))\n",
        "  hour=time//100\n",
        "  minutes=time%100\n",
        "  hour=hour-12\n",
        "  print(\"it is\",minutes, \"minutes past\", hour, \"PM\")\n",
        "\n",
        "get_pm_minutes()"
      ],
      "metadata": {
        "id": "5YqZzdDr06At",
        "colab": {
          "base_uri": "https://localhost:8080/"
        },
        "outputId": "34c73b5f-bafa-4bfc-dc76-36c4f589acb8"
      },
      "execution_count": null,
      "outputs": [
        {
          "output_type": "stream",
          "name": "stdout",
          "text": [
            "Enter time in 24 hr: 1350\n",
            "it is 50 minutes past 1 PM\n"
          ]
        }
      ]
    },
    {
      "cell_type": "markdown",
      "source": [
        "---\n",
        "### Exercise 10 - How many tins of beans?  \n",
        "\n",
        "Write a function called **calculate_tins()** that will calculate how many tins of beans will fit in a cardboard box. Bean tins are *11cm tall* and *8cm* diameter.  All tins will be standing up and can be stacked in layers.  \n",
        "\n",
        "*  use the **height**, **width** and **depth** of the box supplied in the function’s brackets.   \n",
        "*  calculate the **number_of_tins** that can fit in the box   \n",
        "*  print the `number_of_tins` that can fit  \n",
        "\n",
        "*Hint: you will need to calculate the number of layers, and the number that will fit in each direction, the product (all of the numbers multiplied together) will tell you how many tins. All answers must be whole numbers*  \n",
        "\n",
        "\n",
        "Expected output:  \n",
        "24 tins will fit in this box  \n"
      ],
      "metadata": {
        "id": "jtDPyVnv07F_"
      }
    },
    {
      "cell_type": "code",
      "source": [
        "def calculate_tins(height, width, depth):\n",
        "  tin_height=11\n",
        "  tin_diameter=8\n",
        "  tin_height_no=int(height/tin_height)\n",
        "  tin_width_no=int(width/tin_diameter)\n",
        "  tin_depth_no=int(depth/tin_diameter)\n",
        "  number_of_tins=tin_height_no*tin_width_no*tin_depth_no\n",
        "  print(number_of_tins, \"tins will fit in this box\")\n",
        "\n",
        "calculate_tins(24, 50, 18)"
      ],
      "metadata": {
        "id": "v_t4JqgS075s",
        "colab": {
          "base_uri": "https://localhost:8080/"
        },
        "outputId": "984f0bfe-1eea-44f2-c3f2-969501cce413"
      },
      "execution_count": null,
      "outputs": [
        {
          "output_type": "stream",
          "name": "stdout",
          "text": [
            "24 tins will fit in this box\n"
          ]
        }
      ]
    }
  ]
}