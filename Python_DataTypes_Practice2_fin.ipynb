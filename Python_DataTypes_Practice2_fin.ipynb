{
  "nbformat": 4,
  "nbformat_minor": 0,
  "metadata": {
    "colab": {
      "provenance": [],
      "include_colab_link": true
    },
    "kernelspec": {
      "name": "python3",
      "display_name": "Python 3"
    },
    "language_info": {
      "name": "python"
    }
  },
  "cells": [
    {
      "cell_type": "markdown",
      "metadata": {
        "id": "view-in-github",
        "colab_type": "text"
      },
      "source": [
        "<a href=\"https://colab.research.google.com/github/adamk505/data-and-python/blob/main/Python_DataTypes_Practice2_fin.ipynb\" target=\"_parent\"><img src=\"https://colab.research.google.com/assets/colab-badge.svg\" alt=\"Open In Colab\"/></a>"
      ]
    },
    {
      "cell_type": "markdown",
      "source": [
        "<a href=\"https://colab.research.google.com/github/StefanMeyer7/Python-Fundamentals/blob/main/DataTypes_Practice1.ipynb\" target=\"_parent\"><img src=\"https://colab.research.google.com/assets/colab-badge.svg\" alt=\"Open In Colab\"/></a>"
      ],
      "metadata": {
        "id": "hypbENCo_DGn"
      }
    },
    {
      "cell_type": "markdown",
      "source": [
        "# Data Types and Operators\n",
        "\n",
        "---"
      ],
      "metadata": {
        "id": "CDpxVUXkxXQX"
      }
    },
    {
      "cell_type": "markdown",
      "source": [
        "# Changing Data Input Type\n",
        "**Recap**: to get input from the user and store it in a variable, use the instruction  \n",
        "\n",
        "*variableName = input(\"message asking user for required information\")  *\n",
        "\n",
        "**Remember**: Unless you state otherwise, all input is String data  \n",
        "\n",
        "Integers are whole numbers and can be both positive or negative.  \n",
        "Floats are decimal numbers which have a 'floating' decimal point.  \n",
        "To change the input data type, we can specify the type of data we would like from the user  \n",
        "\n",
        "*variableNameInteger = int(input(\"Please input a whole number \"))*  \n",
        "\n",
        "*variableNameFloat = float(input(\"Please input a decimal number \")) *\n",
        "\n",
        "By using either *int()* or *float()* it tells Python what kind of data will be stored in the variable  \n"
      ],
      "metadata": {
        "id": "92y24d-ZxY4s"
      }
    },
    {
      "cell_type": "code",
      "source": [],
      "metadata": {
        "id": "nhX-ra6QxjuM"
      },
      "execution_count": null,
      "outputs": []
    },
    {
      "cell_type": "markdown",
      "source": [
        "---\n",
        "### Exercise 1 - changing data type\n",
        "Write a function called **print_details()** which will:  \n",
        "\n",
        "*  ask the user their name, age and height in metres  \n",
        "*  print the message Hello `name` you are `age` years old and `height` metres tall  \n",
        "\n",
        "*Remember to specify the correct data type for each input*   \n",
        "\n",
        "Test Input:  \n",
        "Jean  \n",
        "52  \n",
        "2.3  \n",
        "\n",
        "Expected Output:  \n",
        "Hello Jean you are 52 years old and 2.3 metres tall\n"
      ],
      "metadata": {
        "id": "RSZmCs9cxlZg"
      }
    },
    {
      "cell_type": "code",
      "source": [
        "def print_details():\n",
        "  name=input(\"Enter your name: \")\n",
        "  age=int(input(\"Enter your age: \"))\n",
        "  height=float(input(\"Enter your height in metres: \"))\n",
        "  print(f\"Hello {name} you are {age} years old and {height} metres tall\")\n",
        "\n",
        "print_details()"
      ],
      "metadata": {
        "id": "7HrgCotAxnZk",
        "colab": {
          "base_uri": "https://localhost:8080/"
        },
        "outputId": "25c76302-180f-434b-cef2-c5ce7aa56bd4"
      },
      "execution_count": null,
      "outputs": [
        {
          "output_type": "stream",
          "name": "stdout",
          "text": [
            "Enter your name: bob\n",
            "Enter your age: 21\n",
            "Enter your height in metres: 2\n",
            "Hello bob you are 21 years old and 2.0 metres tall\n"
          ]
        }
      ]
    },
    {
      "cell_type": "markdown",
      "source": [
        "---\n",
        "### Exercise 2 - boolean variables\n",
        "\n",
        "A **boolean variable** can hold just two values, True or False.  This type of variable is hugely valuable in holding onto the state of things.  For example, a boolean variable called loggedIn might hold True if the user is loggedIn and False otherwise.  This means that at any point while a program is running, it is possible to ask the question \"Is the user logged in?\".  The answer will depend on the value of the variable loggedIn.  \n",
        "\n",
        "Although we will use the values True and False as words, Python stores them as 1 for true and 0 for false.   \n",
        "\n",
        "To demonstrate this, write a function called **show_trueFalse()** which will:  \n",
        "\n",
        "*  create a variable called **logged_in** and assign it the value True (use the assignment operator **=** the same as usual)  \n",
        "*  create a variable called **logged_in_as_num** and assign it the value int(True)  \n",
        "*  print `logged_in` and `logged_in_as_num`\n",
        "\n",
        "Expected output:  \n",
        "True 1\n",
        "\n",
        "When you have run this, change True to False in both places.\n",
        "\n",
        "Expected output:  \n",
        "False 0\n"
      ],
      "metadata": {
        "id": "RoBOV7gWxn2A"
      }
    },
    {
      "cell_type": "code",
      "source": [
        "def show_trueFalse():\n",
        "  logged_in=True\n",
        "  logged_in_as_num=int(logged_in)\n",
        "  print(\"logged_in:\", logged_in)\n",
        "  print(\"logged_in_as_num:\", logged_in_as_num)\n",
        "\n",
        "show_trueFalse()\n",
        "\n"
      ],
      "metadata": {
        "id": "fwm0o7eexqA8",
        "colab": {
          "base_uri": "https://localhost:8080/"
        },
        "outputId": "731716b1-bb50-4eee-904c-e9013bef91e3"
      },
      "execution_count": null,
      "outputs": [
        {
          "output_type": "stream",
          "name": "stdout",
          "text": [
            "logged_in: True\n",
            "logged_in_as_num: 1\n"
          ]
        }
      ]
    },
    {
      "cell_type": "markdown",
      "source": [
        "---\n",
        "### Exercise 3 - converting float to int\n",
        "\n",
        "Write a function called **count_poundCoins()** which will:  \n",
        "\n",
        "*  ask the user to enter an amount in pounds and pence and assign this value to a float variable called **pounds_pence**  \n",
        "*  convert the float variable to int and assign this value to a variable called **pound_coins**  \n",
        "*  print the message Number of pound coins `pound_coins`  \n",
        "\n",
        "Test input:  \n",
        "3.48  \n",
        "\n",
        "Expected output:  \n",
        "Number of pound coins 3\n",
        "\n"
      ],
      "metadata": {
        "id": "GwAxLjtyxqNK"
      }
    },
    {
      "cell_type": "code",
      "source": [
        "def count_poundCoins():\n",
        "  pounds_pence=float(input(\"Enter amount in pounds and pence: \"))\n",
        "  pound_coins=int(pounds_pence)\n",
        "  print(\"Number of pound coins: \", pound_coins)\n",
        "\n",
        "count_poundCoins()"
      ],
      "metadata": {
        "id": "ir8z6ga8xsBF",
        "colab": {
          "base_uri": "https://localhost:8080/"
        },
        "outputId": "318ec9d4-5977-4b41-e2bf-f64a0548f8a7"
      },
      "execution_count": null,
      "outputs": [
        {
          "output_type": "stream",
          "name": "stdout",
          "text": [
            "Enter amount in pounds and pence: 3.48\n",
            "Number of pound coins:  3\n"
          ]
        }
      ]
    },
    {
      "cell_type": "markdown",
      "source": [
        "---\n",
        "### Exercise 4 - converting int to string\n",
        "\n",
        "Write a function called **format_currency()** which will:\n",
        "\n",
        "*  ask the user to enter a number of pounds and assign this to an integer variable called **num_pounds**  \n",
        "*  convert numPounds to a string and assign it to a variable called **pounds**  \n",
        "*  create a String variable called **currency** which has a \"£\", pounds, \".00\" joined together\n",
        "*  print the resulting currency, including the £ sign  \n",
        "\n",
        "Test input:  \n",
        "4\n",
        "\n",
        "Expected output:  \n",
        "£4.00\n"
      ],
      "metadata": {
        "id": "8-q4QIO4xs4x"
      }
    },
    {
      "cell_type": "code",
      "source": [
        "def format_currency():\n",
        "  num_pounds=int(input(\"Enter amount in pounds: \"))\n",
        "  pounds=str(num_pounds)\n",
        "  currency=\"£\"+pounds+\".00\"\n",
        "  print(\"Formatted Currency: \", currency)\n",
        "\n",
        "format_currency()"
      ],
      "metadata": {
        "id": "2K_4Wl60xvam",
        "colab": {
          "base_uri": "https://localhost:8080/"
        },
        "outputId": "82e86793-e3b0-460c-9565-76fee59c0bfc"
      },
      "execution_count": null,
      "outputs": [
        {
          "output_type": "stream",
          "name": "stdout",
          "text": [
            "Enter amount in pounds: 4\n",
            "Formatted Currency:  £4.00\n"
          ]
        }
      ]
    },
    {
      "cell_type": "markdown",
      "source": [
        "---\n",
        "### Exercise 5 - area of a circle\n",
        "\n",
        "Write a function called **calculate_area()** which will:\n",
        "\n",
        "*  ask the user to enter the **radius** of a circle (which could be a float or an int)  \n",
        "*  create a variable called **pi** and assign it the value 3.14159\n",
        "*  calculate the **area** of the circle (`area = pi * radius * radius`)  \n",
        "*  print the area of the circle to 2 decimal places (`print(round(area, 2))` ).  \n",
        "\n",
        "Test input:  \n",
        "5\n",
        "\n",
        "Expected output:  \n",
        "78.54"
      ],
      "metadata": {
        "id": "-QxgOCm0xv4E"
      }
    },
    {
      "cell_type": "code",
      "source": [
        "def calculate_area():\n",
        "  radius=float(input(\"Enter radius of circle: \"))\n",
        "  pi=3.14159\n",
        "  area=(pi*radius*radius)\n",
        "  print(round(area, 2))\n",
        "\n",
        "calculate_area()"
      ],
      "metadata": {
        "id": "2Az3BEzWxx5e",
        "colab": {
          "base_uri": "https://localhost:8080/"
        },
        "outputId": "df2052bb-bf2b-4c13-a4b3-9a8fab9b8416"
      },
      "execution_count": null,
      "outputs": [
        {
          "output_type": "stream",
          "name": "stdout",
          "text": [
            "Enter radius of circle: 5\n",
            "78.54\n"
          ]
        }
      ]
    }
  ]
}