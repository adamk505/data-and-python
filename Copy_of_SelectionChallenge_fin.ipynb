{
  "nbformat": 4,
  "nbformat_minor": 0,
  "metadata": {
    "colab": {
      "provenance": [],
      "include_colab_link": true
    },
    "kernelspec": {
      "name": "python3",
      "display_name": "Python 3"
    },
    "language_info": {
      "name": "python"
    }
  },
  "cells": [
    {
      "cell_type": "markdown",
      "metadata": {
        "id": "view-in-github",
        "colab_type": "text"
      },
      "source": [
        "<a href=\"https://colab.research.google.com/github/adamk505/data-and-python/blob/main/Copy_of_SelectionChallenge_fin.ipynb\" target=\"_parent\"><img src=\"https://colab.research.google.com/assets/colab-badge.svg\" alt=\"Open In Colab\"/></a>"
      ]
    },
    {
      "cell_type": "markdown",
      "source": [
        "<a href=\"https://colab.research.google.com/github/StefanMeyer7/Python-Fundamentals/blob/main/SelectionChallenge.ipynb\" target=\"_parent\"><img src=\"https://colab.research.google.com/assets/colab-badge.svg\" alt=\"Open In Colab\"/></a>"
      ],
      "metadata": {
        "id": "hypbENCo_DGn"
      }
    },
    {
      "cell_type": "markdown",
      "source": [
        "# Three selection challenges\n",
        "\n",
        "---\n"
      ],
      "metadata": {
        "id": "dXBVr9XG_X_R"
      }
    },
    {
      "cell_type": "markdown",
      "source": [
        "### Challenge 1 - password format  \n",
        "\n",
        "Write a function called **check_password_valid()** which will check the validity of a **password** input by a user.\n",
        "\n",
        "Rules for a valid password are:  \n",
        "\n",
        "*  At least 1 letter between [a-z] and 1 letter between [A-Z].\n",
        "*  At least 1 number between [0-9].\n",
        "*  At least 1 character from [$#@].\n",
        "*  Minimum length 6 characters.\n",
        "*  Maximum length 16 characters.  \n",
        "\n",
        "Let the user know if the `password` they have typed is valid and, if not, where was the first error.\n",
        "\n",
        "*Hint:  to test if a set of characters is present in a password String, you can use re.search('[character set]', `password`)*  \n",
        "\n",
        "Example:   \n",
        "*if re.search('[a-z]',`password`):*    \n",
        "if there is at least 1 character a-z in the password, re.search will not be None.\n",
        "\n",
        "**re** is a pre-written Python function for pattern searching in Strings.  It has been imported for you in the code cell below.  "
      ],
      "metadata": {
        "id": "_6gwhxsa_Yqt"
      }
    },
    {
      "cell_type": "code",
      "source": [
        "import re\n",
        "\n",
        "# add your check_PasswordValid() function and call below here\n",
        "def check_password_valid():\n",
        "  password=str(input(\"Enter password: \"))\n",
        "  if len(password)<6 or len(password) >16:\n",
        "    print(\"Password must be between 6 and 16 characters\")\n",
        "  if not re.search(\"[a-z]\",password)!= None:\n",
        "    print(\"Password must contain one lower case letter\")\n",
        "  if not re.search(\"[A-Z]\",password)!= None:\n",
        "    print(\"Password must contain one upper case letter\")\n",
        "  if not re.search(\"[0-9]\",password)!= None:\n",
        "    print(\"Password must contain at least one digit\")\n",
        "  if not re.search(\"[$~@]\",password) != None:\n",
        "    print(\"Password must contain special character\")\n",
        "  else:\n",
        "    print(\"Password is valid\")\n",
        "\n",
        "check_password_valid()\n",
        "\n",
        "\n",
        "\n",
        "\n"
      ],
      "metadata": {
        "id": "LbgP53vJ_a2T",
        "colab": {
          "base_uri": "https://localhost:8080/"
        },
        "outputId": "bc033c66-53f9-4886-e538-86208db26a5a"
      },
      "execution_count": 18,
      "outputs": [
        {
          "output_type": "stream",
          "name": "stdout",
          "text": [
            "Enter password: Password@1\n",
            "Password is valid\n"
          ]
        }
      ]
    },
    {
      "cell_type": "markdown",
      "source": [
        "---\n",
        "### Challenge 2 - triangle shape  \n",
        "\n",
        "Write a function called **evaluate_triangle_shape()** which will check if a triangle is equilateral, isosceles or scalene, based on the three side lengths entered by a user (**x**, **y** and **z**).\n",
        "\n",
        "An equilateral triangle is a triangle in which all three sides are equal.\n",
        "A scalene triangle is a triangle that has three unequal sides.\n",
        "An isosceles triangle is a triangle with (at least) two equal sides.\n",
        "\n",
        "For example:  \n",
        "A triange with side lengths                                 \n",
        "x: 6                                                                    \n",
        "y: 8                                                                    \n",
        "z: 12                                                                   \n",
        "is a *Scalene triangle*\n",
        "\n",
        "A triangle with side lengths\n",
        "x:5  \n",
        "y:3   \n",
        "z:5  \n",
        "is an *Isosceles triangle*"
      ],
      "metadata": {
        "id": "ItfugXAk_cJI"
      }
    },
    {
      "cell_type": "code",
      "source": [
        "def evaluate_triangle_shape():\n",
        "  x=int(input(\"Enter X value: \"))\n",
        "  y=int(input(\"Enter Y value: \"))\n",
        "  z=int(input(\"Enter Z value: \"))\n",
        "  if x==y==z:\n",
        "    print(\"This is an equilateral triangle\")\n",
        "  elif x==y or x==z or y==z:\n",
        "    print(\"This is an isosceles triangle\")\n",
        "  else:\n",
        "    print(\"This is a scalene triangle\")\n",
        "\n",
        "evaluate_triangle_shape()\n",
        "\n",
        "\n"
      ],
      "metadata": {
        "id": "YhvNRSrR_fwV",
        "colab": {
          "base_uri": "https://localhost:8080/"
        },
        "outputId": "18a44a71-e945-49c6-ec95-376382257e6a"
      },
      "execution_count": 25,
      "outputs": [
        {
          "output_type": "stream",
          "name": "stdout",
          "text": [
            "Enter X value: 6\n",
            "Enter Y value: 8\n",
            "Enter Z value: 12\n",
            "This is a scalene triangle\n"
          ]
        }
      ]
    },
    {
      "cell_type": "markdown",
      "source": [
        "---\n",
        "### Challenge 3 - which season\n",
        "\n",
        "Write a function called **determine_season()** which will ask the user to enter two integers representing a **month** and **day** and prints the season for that month and day.\n",
        "\n",
        "Note:  for this exercise the season dates are:\n",
        "*  Winter December 21 to March 20    \n",
        "*  Spring March 21 to June 20  \n",
        "*  Summer June 21 to September 20  \n",
        "*  Autumn September 21 to December 20\n",
        "\n",
        "Test input:  \n",
        "Input the month (e.g. January, February etc.): 7                     \n",
        "Input the day: 31                                                       \n",
        "\n",
        "Expected output:  \n",
        "Season is summer\n",
        "\n",
        "*Note: this will require multiple and or or operators and you should use brackets to help Python know which operations to do first*  \n",
        "\n",
        "*For an extra challenge you can check that the day is valid for the month*"
      ],
      "metadata": {
        "id": "DEy3P3-O_gsI"
      }
    },
    {
      "cell_type": "code",
      "source": [
        "def determine_season_():\n",
        "  month=int(input(\"Enter month: \"))\n",
        "  day=int(input(\"Enter day: \"))\n",
        "  if (month==2 and day>28) or ((month==4 or month==6 or month==9 or month==11) and day>30) or (day>31 or day <=0) or (month>12 or month<=0):\n",
        "    print(\"Invalid date\")\n",
        "  elif (month ==1 or month ==2) or (month == 12 and day>=21) or (month ==3 and day<21):\n",
        "    print(\"The season is winter\")\n",
        "  elif (month ==3 and day>=21) or (month == 5) or (month == 6 and day<21):\n",
        "    print(\"The season is spring\")\n",
        "  elif (month ==5 and day>=21) or (month==6 or month==7) or (month==8 and day<21):\n",
        "    print(\"The season is summer\")\n",
        "  else:\n",
        "    print(\"The season is winter\")\n",
        "\n",
        "determine_season_()"
      ],
      "metadata": {
        "id": "5hKAawCu_iln",
        "colab": {
          "base_uri": "https://localhost:8080/"
        },
        "outputId": "7859781f-940f-483e-bfe2-7827db49c1af"
      },
      "execution_count": 40,
      "outputs": [
        {
          "output_type": "stream",
          "name": "stdout",
          "text": [
            "Enter month: 13\n",
            "Enter day: 5\n",
            "Invalid date\n"
          ]
        }
      ]
    }
  ]
}