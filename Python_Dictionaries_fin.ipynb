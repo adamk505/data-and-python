{
  "cells": [
    {
      "cell_type": "markdown",
      "metadata": {
        "id": "view-in-github",
        "colab_type": "text"
      },
      "source": [
        "<a href=\"https://colab.research.google.com/github/adamk505/data-and-python/blob/main/Python_Dictionaries_fin.ipynb\" target=\"_parent\"><img src=\"https://colab.research.google.com/assets/colab-badge.svg\" alt=\"Open In Colab\"/></a>"
      ]
    },
    {
      "cell_type": "markdown",
      "metadata": {
        "id": "Vvcpt-18AqVE"
      },
      "source": [
        "<a href=\"https://colab.research.google.com/github/StefanMeyer7/Python-Fundamentals/blob/main/PythonDictionaries.ipynb\" target=\"_parent\"><img src=\"https://colab.research.google.com/assets/colab-badge.svg\" alt=\"Open In Colab\"/></a>"
      ]
    },
    {
      "cell_type": "markdown",
      "metadata": {
        "id": "ajVrvblzd9wB"
      },
      "source": [
        "# Dictionaries\n",
        "\n",
        "---\n",
        "\n",
        "A **dictionary** is a collection of dissimilar data stored together in one *record*. Each item of data has a  (or key) that describes its paired value.  \n",
        "\n",
        "Create a dictionary object by declaring the set of keys and values, e.g.:\n",
        "\n",
        "```\n",
        "   transport = {\n",
        "       \"type\":\"bus\",\n",
        "       \"numPassengers\":72,\n",
        "       \"colour\":\"blue\",\n",
        "       \"fuel\":\"diesel\"\n",
        "   }\n",
        "```\n",
        "\n",
        "To access a value in a dictionary, use its key:  \n",
        "\n",
        "```\n",
        "transport[\"type\"] = \"coach\"\n",
        "transport_type = transport[\"type\"]\n",
        "transport_colour = transport[\"colour\"]\n",
        "transport[\"fuel\"] = petrol\n",
        "```\n",
        "\n",
        "To add a new key/value pair to a dictionary, simply assign a value to a new key:  \n",
        "```\n",
        "transport[\"seats\"] = 54\n",
        "```\n",
        "\n",
        "The transport dictionary will now look like this:  \n",
        "```\n",
        "   transport = {\n",
        "       \"type\":\"bus\",\n",
        "       \"numPassengers\":72,\n",
        "       \"colour\":\"blue\",\n",
        "       \"fuel\":\"diesel\",\n",
        "       \"seats\":54\n",
        "   }\n",
        "```\n",
        "\n"
      ]
    },
    {
      "cell_type": "markdown",
      "metadata": {
        "id": "0twREgj8d-8E"
      },
      "source": [
        "---\n",
        "### Exercise 1 - print dictionary\n",
        "\n",
        "Write a function which will:  \n",
        "\n",
        "*  create an empty dictionary for a person (name, age and postcode, with values \"\", 0 and \"\")\n",
        "*  ask the user for name, age and postcode and assign the values to the correct keys in the dictionary  \n",
        "*  print the dictionary\n",
        "\n",
        "Test input:  \n",
        "Jack Jones  \n",
        "16  \n",
        "AB5 3DF  \n",
        "\n",
        "Expected output:  \n",
        "```{'name':'Jack Jones', 'age':16, 'postcode':'AB5 3DF'}```"
      ]
    },
    {
      "cell_type": "code",
      "execution_count": null,
      "metadata": {
        "id": "xxdFsAVFeAaa",
        "colab": {
          "base_uri": "https://localhost:8080/"
        },
        "outputId": "0059de62-c77b-42b6-ee37-a1d0c390e008"
      },
      "outputs": [
        {
          "output_type": "stream",
          "name": "stdout",
          "text": [
            "Enter name: Jack Jones\n",
            "Enter age: 16\n",
            "Enter postcode: AB5 3DF\n",
            "name : Jack Jones\n",
            "age : 16\n",
            "postcode : AB5 3DF\n"
          ]
        }
      ],
      "source": [
        "def personal_info():\n",
        "  person_dict={\"name\": \"\", \"age\": 0, \"postcode\": \"\"}\n",
        "\n",
        "  person_dict[\"name\"]=input(\"Enter name: \")\n",
        "  person_dict[\"age\"]=int(input(\"Enter age: \"))\n",
        "  person_dict[\"postcode\"]=input(\"Enter postcode: \")\n",
        "\n",
        "  for key, value in person_dict.items():\n",
        "    print(key,\":\",person_dict[key])\n",
        "\n",
        "personal_info()"
      ]
    },
    {
      "cell_type": "markdown",
      "metadata": {
        "id": "s2ovh9vReApo"
      },
      "source": [
        "---\n",
        "### Exercise 2 - create a dictionary\n",
        "\n",
        "Write a function that will create two dictionaries,without values:  \n",
        "\n",
        "1.  person (with keys firstname, surname, birthdate, postcode)  \n",
        "2.  car (with key/value pairs as follows:  make - Vauxhall, model - Corsa, engineSize - 1199, fuelType - unleaded, num_doors - 4)  \n",
        "\n",
        "*   ask the user to enter the values for the person dictionary  \n",
        "*   print, on one line, the person's name from the person dictionary and the make of the car from the car dictionary.\n",
        "\n",
        "Test input:  \n",
        "Jack  \n",
        "Jones  \n",
        "2005/02/02    \n",
        "AB5 3DF  \n",
        "\n",
        "Expected output:  \n",
        "Jack Jones Vauxhall"
      ]
    },
    {
      "cell_type": "code",
      "execution_count": null,
      "metadata": {
        "id": "zwVtULVkeB5F",
        "colab": {
          "base_uri": "https://localhost:8080/"
        },
        "outputId": "00ed9820-cc79-4eaf-d073-6e8f0683a916"
      },
      "outputs": [
        {
          "output_type": "stream",
          "name": "stdout",
          "text": [
            "Enter first name: Jack\n",
            "Enter surname: Jones\n",
            "Enter birthdate: 2005/02/02\n",
            "Enter postcode: AB5 3DF\n",
            "Jack Jones Vauxhall\n"
          ]
        }
      ],
      "source": [
        "def person_car_info():\n",
        "\n",
        "  person_info={\"firstname\": \"\", \"surname\": \"\", \"birthdate\": \"\", \"postcode\": \"\"}\n",
        "  car_info={\"make\": \"Vauxhall\", \"model\": \"Corsa\", \"engineSize\": 1199, \"fuelType\": \"unleaded\", \"num_doors\": 4}\n",
        "\n",
        "  person_info[\"firstname\"]=input(\"Enter first name: \")\n",
        "  person_info[\"surname\"]=input(\"Enter surname: \")\n",
        "  person_info[\"birthdate\"]=input(\"Enter birthdate: \")\n",
        "  person_info[\"postcode\"]=input(\"Enter postcode: \")\n",
        "\n",
        "\n",
        "  print(person_info[\"firstname\"], person_info[\"surname\"], car_info[\"make\"])\n",
        "\n",
        "\n",
        "person_car_info()"
      ]
    },
    {
      "cell_type": "markdown",
      "metadata": {
        "id": "Juu-ivg0eDS5"
      },
      "source": [
        "---\n",
        "### Exercise 3 - check dictionary values\n",
        "\n",
        "Write a new function which will:\n",
        "\n",
        "*  set up the same two dictionaries as in Exercise 2  \n",
        "*  ask the user to enter the details to complete the person record  \n",
        "*  calculate the person's age  \n",
        "*  if the person is under 17 then print a message to say that they can't buy a car as they are too young to drive\n",
        "*  else if the person is under 25 then print a message to say that an engine size under 1200 is recommended  \n",
        "*  ask the user to enter the make of car that the person is looking for  \n",
        "*  if the user enters the same make as that stored in the car record, then print a message to say that you have one car of that make in stock and print all the details of the car that you have the record for\n",
        "*  else (if the user enters any other car make) then print a message to say sorry that you don't have any cars of that make in stock\n",
        "*  print a message to say that the user can get more details for stockist in the <user's postcode> area if they call 01234567890\n",
        "*  print a message to say \"Thank you <user's name> for using our site\"  \n",
        "\n",
        "Test input:  \n",
        "Jack  \n",
        "Jones  \n",
        "2005/02/02  \n",
        "AB5 3DF  \n",
        "Vauxhall  \n",
        "\n",
        "Expected output:  \n",
        "You are too young to drive\n",
        "\n",
        "Test input:  \n",
        "John  \n",
        "Jones  \n",
        "2003/02/02  \n",
        "AB5 3DF  \n",
        "Vauxhall\n",
        "\n",
        "Expected output:  \n",
        "An engine size under 1200 is recommended  \n",
        "We have one Vauxhall in stock, details:  \n",
        "Make - Vauxhall    \n",
        "Model - Corsa    \n",
        "Engine size - 1199  \n",
        "Fuel type - unleaded   \n",
        "Number of doors - 4  \n",
        "You can get more details of stockists near AB5 3DF on 01234567890  \n",
        "Thank you John Jones for using our site.     \n",
        "\n",
        "Test input:  \n",
        "John  \n",
        "Jones  \n",
        "2003/02/02  \n",
        "AB5 3DF  \n",
        "Ford  \n",
        "\n",
        "Expected output:  \n",
        "An engine size under 1200 is recommended  \n",
        "Sorry, we don't have any of that make in stock  \n"
      ]
    },
    {
      "cell_type": "code",
      "execution_count": null,
      "metadata": {
        "id": "IiAIQVvWeDsk",
        "colab": {
          "base_uri": "https://localhost:8080/"
        },
        "outputId": "90e77898-3b0b-4d17-e46d-efdf97b8dcba"
      },
      "outputs": [
        {
          "output_type": "stream",
          "name": "stdout",
          "text": [
            "Enter first name: John\n",
            "Enter surname: Jones\n",
            "Enter birthdate (YYYY/MM/DD): 2003/02/02\n",
            "Enter postcode: AB5 3DF\n",
            "An engine size under 1200 is recommended.\n",
            "Enter the make of car you are looking for: Ford\n",
            "Sorry, we don't have any of that make in stock.\n",
            "You can get more details of stockists near AB5 3DF on 01234567890\n",
            "Thank you John Jones for using our site.\n"
          ]
        }
      ],
      "source": [
        "def car_purchase():\n",
        "    person_info = {\"firstname\": \"\", \"surname\": \"\", \"birthdate\": \"\", \"postcode\": \"\"}\n",
        "    car_info = {\"make\": \"Vauxhall\", \"model\": \"Corsa\", \"engineSize\": 1199, \"fuelType\": \"unleaded\", \"num_doors\": 4}\n",
        "\n",
        "    person_info[\"firstname\"] = input(\"Enter first name: \")\n",
        "    person_info[\"surname\"] = input(\"Enter surname: \")\n",
        "    person_info[\"birthdate\"] = input(\"Enter birthdate (YYYY/MM/DD): \")\n",
        "    person_info[\"postcode\"] = input(\"Enter postcode: \")\n",
        "\n",
        "    birth_year = int(person_info[\"birthdate\"][:4])\n",
        "    current_year = 2023\n",
        "    age = current_year - birth_year\n",
        "\n",
        "    if age < 17:\n",
        "        print(\"You are too young to drive.\")\n",
        "        return None\n",
        "    elif age < 25:\n",
        "        print(\"An engine size under 1200 is recommended.\")\n",
        "\n",
        "    desired_make = input(\"Enter the make of car you are looking for: \")\n",
        "    if desired_make.lower() == car_info[\"make\"].lower():\n",
        "        print(\"We have one\", car_info['make'], \"in stock, details:\")\n",
        "        for key, value in car_info.items():\n",
        "            print(key, \":\", value)\n",
        "    else:\n",
        "      print(\"Sorry, we don't have any of that make in stock.\")\n",
        "\n",
        "    print(\"You can get more details of stockists near\", person_info[\"postcode\"], \"on 01234567890\")\n",
        "    print(\"Thank you\", person_info[\"firstname\"], person_info[\"surname\"], \"for using our site.\")\n",
        "\n",
        "\n",
        "car_purchase()"
      ]
    },
    {
      "cell_type": "markdown",
      "metadata": {
        "id": "ctA2qPE3eFRB"
      },
      "source": [
        "---\n",
        "### Exercise 4 - print keys and values\n",
        "\n",
        "Two dictionaries have been created below.  You can print a list of the dictionary's keys using `dictionary_name.keys()` and the values using `dictionary_name.values()`\n",
        "\n",
        "Write a function which will accept a dictionary as a parameter and will:  \n",
        "*  print the dictionary keys as a list   \n",
        "*  print the dictionary values as a list  \n",
        "\n",
        "*Hint*:  you will need to cast the keys as a list (`list(dictionary_name.keys()`)  and do the same for the values.\n",
        "\n",
        "**Expected Output**\n",
        "\n",
        "Input: English  \n",
        "Output:\n",
        "['Andy', 'Angela']  \n",
        "[95, 53]  \n",
        "\n",
        "Input: Maths  \n",
        "Output:  \n",
        "['Andy', 'Angela']  \n",
        "[58, 72]\n",
        "\n",
        "\n",
        "\n"
      ]
    },
    {
      "cell_type": "code",
      "execution_count": null,
      "metadata": {
        "id": "MJtMND82eGwt",
        "colab": {
          "base_uri": "https://localhost:8080/"
        },
        "outputId": "09b195d6-ab4b-43ce-d1d7-52fcaaa7d1cf"
      },
      "outputs": [
        {
          "output_type": "stream",
          "name": "stdout",
          "text": [
            "Input: ['Andy', 'Angela']\n",
            "Output:\n",
            "['Andy', 'Angela']\n",
            "[95, 53]\n",
            "\n",
            "Input: ['Andy', 'Angela']\n",
            "Output:\n",
            "['Andy', 'Angela']\n",
            "[58, 72]\n",
            "\n"
          ]
        }
      ],
      "source": [
        "def display_dictionary(scores):\n",
        "\n",
        "    print(\"Input:\", list(scores.keys()))\n",
        "\n",
        "    keys_list = list(scores.keys())\n",
        "    print(\"Output:\")\n",
        "    print(keys_list)\n",
        "\n",
        "    values_list = list(scores.values())\n",
        "    print(values_list)\n",
        "    print()\n",
        "\n",
        "english_scores = {'Andy': 95, 'Angela': 53}\n",
        "maths_scores = {'Andy': 58, 'Angela': 72}\n",
        "\n",
        "display_dictionary(english_scores)\n",
        "display_dictionary(maths_scores)\n"
      ]
    },
    {
      "cell_type": "markdown",
      "metadata": {
        "id": "l21xWlAYeIbD"
      },
      "source": [
        "---\n",
        "### Exercise 5 - add field\n",
        "\n",
        "Write a function which will:\n",
        "\n",
        "*  create a new dictionary called **science_scores** with values of 0 for both Andy and Angela\n",
        "*  update Andy's score for science to 73 and Angela's score to 73   \n",
        "*  create a new key/value pair by adding another learner to the `science_scores`  dictionary (George has a score of 55)    \n",
        "*  print the `science_scores` dictionary to check results  \n",
        "\n",
        "Expected Output\n",
        "\n",
        "{'Andy': 73, 'Angela': 73, 'George': 55}"
      ]
    },
    {
      "cell_type": "code",
      "execution_count": null,
      "metadata": {
        "id": "yUIyc-AleI1j",
        "colab": {
          "base_uri": "https://localhost:8080/"
        },
        "outputId": "12209fb0-e936-431b-d437-b3ad3c7179c2"
      },
      "outputs": [
        {
          "output_type": "stream",
          "name": "stdout",
          "text": [
            "{'Andy': 73, 'Angela': 73, 'George': 55}\n"
          ]
        }
      ],
      "source": [
        "def update_science_scores():\n",
        "\n",
        "    science_scores = {'Andy': 0, 'Angela': 0}\n",
        "\n",
        "    science_scores['Andy'] = 73\n",
        "    science_scores['Angela'] = 73\n",
        "\n",
        "    science_scores['George'] = 55\n",
        "\n",
        "    print(science_scores)\n",
        "\n",
        "update_science_scores()"
      ]
    },
    {
      "cell_type": "markdown",
      "metadata": {
        "id": "WhkZtLjDeJ5D"
      },
      "source": [
        "---\n",
        "### Exercise 6 - loop through keys/value pairs\n",
        "\n",
        "Write a function which will use a *for* loop to print the each key/value pair in the science dictionary (recreate this dictionary in this function)\n",
        "\n",
        "*(Hint: you can iterate through the key/value pairs in the dictionary in the same way as you iterate through a loop (e.g. for record in dictionary) and print the record (which is the key) and its value)*\n",
        "\n",
        "Expected output:  \n",
        "\n",
        "Angela 72  \n",
        "Andy 72  \n",
        "George 55  "
      ]
    },
    {
      "cell_type": "code",
      "execution_count": null,
      "metadata": {
        "id": "AhW3GnQheKNW",
        "colab": {
          "base_uri": "https://localhost:8080/"
        },
        "outputId": "3af2040d-048a-427b-b069-fa6b0cbc598e"
      },
      "outputs": [
        {
          "output_type": "stream",
          "name": "stdout",
          "text": [
            "Angela 72\n",
            "Andy 72\n",
            "George 55\n"
          ]
        }
      ],
      "source": [
        "def print_science_scores():\n",
        "\n",
        "    science_scores = {'Angela': 72, 'Andy': 72, 'George': 55}\n",
        "\n",
        "    for learner, score in science_scores.items():\n",
        "        print(learner, score)\n",
        "\n",
        "print_science_scores()"
      ]
    },
    {
      "cell_type": "markdown",
      "metadata": {
        "id": "RfJnjBoTeLeU"
      },
      "source": [
        "---\n",
        "### Exercise 7 - generate new dictionary  \n",
        "\n",
        "Write a functions which will:\n",
        "*  create a new dictionary where the keys are numbers between 1 and 15 (both included) and the values are square of keys\n",
        "*  print the dictionary\n",
        "\n",
        "Expected output:  \n",
        "{1: 1, 2: 4, 3: 9, 4: 16, 5: 25, 6: 36, 7: 49, 8: 64, 9: 81, 10: 100, 11: 121, 12: 144, 13: 169, 14: 196, 15: 225}"
      ]
    },
    {
      "cell_type": "code",
      "execution_count": null,
      "metadata": {
        "id": "Zn-pa0rXeLvk",
        "colab": {
          "base_uri": "https://localhost:8080/"
        },
        "outputId": "22f23bc0-4e46-41dd-85c8-e93047d00d10"
      },
      "outputs": [
        {
          "output_type": "stream",
          "name": "stdout",
          "text": [
            "{1: 1, 2: 4, 3: 9, 4: 16, 5: 25, 6: 36, 7: 49, 8: 64, 9: 81, 10: 100, 11: 121, 12: 144, 13: 169, 14: 196, 15: 225}\n"
          ]
        }
      ],
      "source": [
        "def create_square_dictionary():\n",
        "\n",
        "    square_dict = {num: num ** 2 for num in range(1, 16)}\n",
        "\n",
        "    print(square_dict)\n",
        "\n",
        "create_square_dictionary()\n"
      ]
    },
    {
      "cell_type": "markdown",
      "metadata": {
        "id": "oehTCZ07eMm_"
      },
      "source": [
        "---\n",
        "### Exercise 8 - colour dictionary  \n",
        "\n",
        "Write a function which will:  \n",
        "*  create a new dictionary record called colour_codes with the values 'red' - '#FF0000', 'green' - '#008000', 'black' - '#000000', 'white' - '#FFFFFF'\n",
        "*  add a new colour code:  'blue' - '#0000FF'    \n",
        "*  remove the colours black and white from the dictionary  \n",
        "\n",
        "*Hint:  there is a list of methods [here](https://www.w3schools.com/python/python_ref_dictionary.asp)*  "
      ]
    },
    {
      "cell_type": "code",
      "execution_count": null,
      "metadata": {
        "id": "DCJC5Jk2eM5Q",
        "colab": {
          "base_uri": "https://localhost:8080/"
        },
        "outputId": "e52cc1e7-4368-4698-973c-aff99a1dc70e"
      },
      "outputs": [
        {
          "output_type": "stream",
          "name": "stdout",
          "text": [
            "{'red': '#FF0000', 'green': '#008000', 'blue': '#0000FF'}\n"
          ]
        }
      ],
      "source": [
        "def manipulate_color_codes():\n",
        "\n",
        "    colour_codes = {'red': '#FF0000', 'green': '#008000', 'black': '#000000', 'white': '#FFFFFF'}\n",
        "    colour_codes['blue'] = '#0000FF'\n",
        "\n",
        "    colours_to_remove = ['black', 'white']\n",
        "    colour_codes = {color: code for color, code in colour_codes.items() if color not in colours_to_remove}\n",
        "\n",
        "    print(colour_codes)\n",
        "\n",
        "manipulate_color_codes()"
      ]
    },
    {
      "cell_type": "markdown",
      "metadata": {
        "id": "W1z8ixCzeN8x"
      },
      "source": [
        "---\n",
        "### Exercise 9 - item tuples  \n",
        "\n",
        "Write a function which will:  \n",
        "*  create a new dictionary containing the colour codes for red, green, blue, black and white\n",
        "*  print the key/value pairs of a dictionary as a list of tuples  \n",
        "\n",
        "*Hint:  iterate through colours.items()*"
      ]
    },
    {
      "cell_type": "code",
      "execution_count": null,
      "metadata": {
        "id": "9fMy4RU_eOdE",
        "colab": {
          "base_uri": "https://localhost:8080/"
        },
        "outputId": "65c9c214-563d-462a-bea2-d272d0ccba61"
      },
      "outputs": [
        {
          "output_type": "stream",
          "name": "stdout",
          "text": [
            "[('red', '#FF0000'), ('green', '#008000'), ('blue', '#0000FF'), ('black', '#000000'), ('white', '#FFFFFF')]\n"
          ]
        }
      ],
      "source": [
        "def print_color_codes():\n",
        "\n",
        "    color_codes = {'red': '#FF0000', 'green': '#008000', 'blue': '#0000FF', 'black': '#000000', 'white': '#FFFFFF'}\n",
        "\n",
        "    print(list(color_codes.items()))\n",
        "\n",
        "print_color_codes()\n"
      ]
    },
    {
      "cell_type": "markdown",
      "metadata": {
        "id": "gkrOvN9IePku"
      },
      "source": [
        "---\n",
        "### Exercise 10 - check if empty\n",
        "Taken from w3resouce.com  \n",
        "\n",
        "Write a function which will check if a dictionary is empty or not\n",
        "\n",
        "*Hint:  you can use bool(dictionary_name), if the dictionary is empty then bool(dictionary_name will be false)*\n",
        "\n",
        "Test 1 sample data:\n",
        "{}\n",
        "\n",
        "Expected output:\n",
        "Dictionary is empty  \n",
        "\n",
        "Test 2 sample data:  \n",
        "{\"name\":\"Groucho\", \"occupation\":\"comedian\"}\n",
        "\n",
        "Expected output:  \n",
        "Dictionary is not empty"
      ]
    },
    {
      "cell_type": "code",
      "execution_count": null,
      "metadata": {
        "id": "BulXCFK0eQJ-",
        "colab": {
          "base_uri": "https://localhost:8080/"
        },
        "outputId": "db4e5325-09dc-49f0-ff32-62d748e7b2b2"
      },
      "outputs": [
        {
          "output_type": "stream",
          "name": "stdout",
          "text": [
            "Dictionary is empty\n",
            "Dictionary is not empty\n"
          ]
        }
      ],
      "source": [
        "def check_empty_dictionary(my_dict):\n",
        "    if not bool(my_dict):\n",
        "        print(\"Dictionary is empty\")\n",
        "    else:\n",
        "        print(\"Dictionary is not empty\")\n",
        "\n",
        "empty_dict = {}\n",
        "check_empty_dictionary(empty_dict)\n",
        "\n",
        "non_empty_dict = {\"name\": \"Groucho\", \"occupation\": \"comedian\"}\n",
        "check_empty_dictionary(non_empty_dict)"
      ]
    }
  ],
  "metadata": {
    "colab": {
      "provenance": [],
      "include_colab_link": true
    },
    "kernelspec": {
      "display_name": "Python 3",
      "name": "python3"
    },
    "language_info": {
      "name": "python"
    }
  },
  "nbformat": 4,
  "nbformat_minor": 0
}