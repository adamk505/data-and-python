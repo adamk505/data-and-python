{
  "cells": [
    {
      "cell_type": "markdown",
      "metadata": {
        "id": "view-in-github",
        "colab_type": "text"
      },
      "source": [
        "<a href=\"https://colab.research.google.com/github/adamk505/data-and-python/blob/main/Copy_of_PythonUserDefinedFunctions_fin.ipynb\" target=\"_parent\"><img src=\"https://colab.research.google.com/assets/colab-badge.svg\" alt=\"Open In Colab\"/></a>"
      ]
    },
    {
      "cell_type": "markdown",
      "metadata": {
        "id": "Vvcpt-18AqVE"
      },
      "source": [
        "<a href=\"https://colab.research.google.com/github/StefanMeyer7/Python-Fundamentals/blob/main/PythonUserDefinedFunctions.ipynb\" target=\"_parent\"><img src=\"https://colab.research.google.com/assets/colab-badge.svg\" alt=\"Open In Colab\"/></a>"
      ]
    },
    {
      "cell_type": "markdown",
      "metadata": {
        "id": "ru3ihvXtee19"
      },
      "source": [
        "# User-defined functions"
      ]
    },
    {
      "cell_type": "markdown",
      "metadata": {
        "id": "0EFh_bgRefwx"
      },
      "source": [
        "---\n",
        "During this course, you have already been writing user-defined functions.  We have introduced these early so that they become second nature to use.  Python is a 'scripting' language, which means that you can just write a list of instructions and click run and it will just run them from first to last.\n",
        "\n",
        "Many other programming languages, including C, C++ and Java, have a structure where you must group instructions into a named set (like a function) before you can run them.  It will be easier to learn new languages later if you have an understanding of the organisation of code into functions.\n",
        "\n",
        "## Definition\n",
        "\n",
        "A function is a set of programming instructions, grouped together and named so that, in essence, they form a new instruction that can be use in other functions.\n",
        "\n",
        "A function should:\n",
        "*   do *one* particular thing (e.g. generate one new piece of data)\n",
        "*   have a *name* that indicates what it does, that name should contain a verb (e.g. get_username(), calculate_sum() )\n",
        "*   accept a number of data items as *parameters* in its brackets\n",
        "*   *return* the one new piece of data it produces or None if no new data is produced.\n",
        "\n",
        "---\n",
        "## Examples\n",
        "Run the code for each to see what it does.\n",
        "\n",
        "\n",
        "\n",
        "\n"
      ]
    },
    {
      "cell_type": "code",
      "execution_count": null,
      "metadata": {
        "id": "CxOta3XBeiC1",
        "colab": {
          "base_uri": "https://localhost:8080/"
        },
        "outputId": "c38913d0-230c-4723-f6e1-e592ef163ec2"
      },
      "outputs": [
        {
          "output_type": "stream",
          "name": "stdout",
          "text": [
            "Enter your username: user1\n",
            "user1\n"
          ]
        }
      ],
      "source": [
        "def get_username():\n",
        "  username = input(\"Enter your username: \")\n",
        "  return username\n",
        "\n",
        "username = get_username()\n",
        "print(username)"
      ]
    },
    {
      "cell_type": "markdown",
      "metadata": {
        "id": "FSDieXsKel2W"
      },
      "source": [
        "---\n"
      ]
    },
    {
      "cell_type": "code",
      "execution_count": null,
      "metadata": {
        "id": "sSac9muoejhO",
        "colab": {
          "base_uri": "https://localhost:8080/"
        },
        "outputId": "43c4856a-f8b9-41b1-d95f-b004a6761851"
      },
      "outputs": [
        {
          "output_type": "stream",
          "name": "stdout",
          "text": [
            "11\n"
          ]
        }
      ],
      "source": [
        "def calculate_sum(num1, num2):\n",
        "  sum = num1 + num2\n",
        "  return sum\n",
        "\n",
        "total = calculate_sum(4, 7)\n",
        "print(total)"
      ]
    },
    {
      "cell_type": "markdown",
      "metadata": {
        "id": "mlRLOZIgeoMQ"
      },
      "source": [
        "---\n"
      ]
    },
    {
      "cell_type": "code",
      "execution_count": null,
      "metadata": {
        "id": "YHMQec_keqZX"
      },
      "outputs": [],
      "source": [
        "def show_score(score):\n",
        "  print(\"Your current score is: \", score)\n",
        "\n",
        "show_score(50)"
      ]
    },
    {
      "cell_type": "markdown",
      "metadata": {
        "id": "IoLYUCU_esBD"
      },
      "source": [
        "---\n",
        "## Passing data to functions\n",
        "\n",
        "Data is passed to a function through its brackets.  The brackets contain the parameter list.  The list can contain zero or more parameters.\n",
        "\n",
        "When the function is called, the parameters (either real values or variables holding values) are added to the function call."
      ]
    },
    {
      "cell_type": "code",
      "execution_count": null,
      "metadata": {
        "id": "Hkv4H68leuU3",
        "colab": {
          "base_uri": "https://localhost:8080/"
        },
        "outputId": "c7ccdeb6-ae77-4506-8ce8-b4007ca8c894"
      },
      "outputs": [
        {
          "output_type": "stream",
          "name": "stdout",
          "text": [
            "12\n"
          ]
        }
      ],
      "source": [
        "def calculate_answer(num1, num2, operator):\n",
        "  if operator == \"+\":\n",
        "     return num1 + num2\n",
        "  elif operator == \"-\":\n",
        "     return num1 - num2\n",
        "  elif operator == \"*\":\n",
        "     return num1 * num2\n",
        "  elif operator == \"/\":\n",
        "     return num1 / num2\n",
        "  else:\n",
        "     return -999999\n",
        "\n",
        "answer = calculate_answer(5,7,\"+\")\n",
        "print(answer)"
      ]
    },
    {
      "cell_type": "markdown",
      "metadata": {
        "id": "n-tGi_mzevjx"
      },
      "source": [
        "To pass values easily to the function, just add the values in the same order that they are listed in the function definition.  Make sure that the values you pass in are of a type that the function obviously expects."
      ]
    },
    {
      "cell_type": "markdown",
      "metadata": {
        "id": "lnK20_Mqew7v"
      },
      "source": [
        "---\n",
        "## Global and local variables\n",
        "\n",
        "Each variable in a Python program has a **scope**.  This determines which parts of the program can 'see' that variable. The advantage of variable scope is that it:\n",
        "*   can protect variables from being changed elsewhere in the program due to adding a variable with the same name\n",
        "*   reduces the number of different variable names needed.  If a total in one function is totally unconnected to a total in a different function they can have the same name and only exist while the function each is in is actually running.  This also saves on memory.\n",
        "\n"
      ]
    },
    {
      "cell_type": "code",
      "execution_count": null,
      "metadata": {
        "id": "lP475Xyuex--",
        "colab": {
          "base_uri": "https://localhost:8080/"
        },
        "outputId": "b97f2a44-0f4c-440d-c1b5-f0100ba6efb9"
      },
      "outputs": [
        {
          "output_type": "stream",
          "name": "stdout",
          "text": [
            "Inside the function, local total 30\n",
            "Outside the function, global total 0\n",
            "Outside the function, global new_total, returned from function 30\n"
          ]
        }
      ],
      "source": [
        "def calculate_sum(num1, num2):\n",
        "  # add the parameters together and return the total\n",
        "  total = num1 + num2  # here total is a local variable\n",
        "  print(\"Inside the function, local total\", total)\n",
        "  return total\n",
        "\n",
        "total = 0  # here total is a global variable (declared outside any function)\n",
        "\n",
        "# call the calculate_sum function, storing the result in the global variable\n",
        "new_total = calculate_sum(10, 20)\n",
        "print(\"Outside the function, global total\", total)\n",
        "print(\"Outside the function, global new_total, returned from function\", new_total)"
      ]
    },
    {
      "cell_type": "markdown",
      "metadata": {
        "id": "UWS_jOcVe5by"
      },
      "source": [
        "---\n",
        "# Have a go"
      ]
    },
    {
      "cell_type": "markdown",
      "metadata": {
        "id": "POAtFoqGe6Gi"
      },
      "source": [
        "---\n",
        "### Exercise 1 - get valid digit\n",
        "\n",
        "Write a function called **input_digit()** which will:\n",
        "*  ask the user for a **number** that must be between 0 and 9, if the number is not between 0 and 9 it will keep reading until it gets a valid `number`\n",
        "*  return the valid `number` to be printed by the caller\n",
        "\n",
        "Test input:  \n",
        "33  \n",
        "-1  \n",
        "8  \n",
        "\n",
        "Expected output:  \n",
        "That number is not valid, try again  \n",
        "That number is not valid, try again  \n",
        "8  "
      ]
    },
    {
      "cell_type": "code",
      "execution_count": 17,
      "metadata": {
        "id": "rgpAeqzqe7aM",
        "colab": {
          "base_uri": "https://localhost:8080/"
        },
        "outputId": "5a0dad62-4588-4950-bdea-a0d11b495869"
      },
      "outputs": [
        {
          "output_type": "stream",
          "name": "stdout",
          "text": [
            "Enter number between 0 and 9: 8\n",
            "8\n"
          ]
        }
      ],
      "source": [
        "def input_digit():\n",
        "  while True:\n",
        "    try:\n",
        "      number=int(input(\"Enter number between 0 and 9: \"))\n",
        "      if 0 <= number <= 9:\n",
        "        return number\n",
        "      else:\n",
        "        print(\"That number is not valid, try again\")\n",
        "    except ValueError:\n",
        "      print(\"That number is not valid, try again\")\n",
        "\n",
        "\n",
        "print(input_digit())"
      ]
    },
    {
      "cell_type": "markdown",
      "metadata": {
        "id": "KkD_TevMe7iq"
      },
      "source": [
        "---\n",
        "### Exercise 2 - input range\n",
        "\n",
        "Write a function called **input_value(min, max)** which will:  \n",
        "*  read a **number** that must be between `min` and `max` and only return when it has a valid `number`.  The caller will print the `number`.\n",
        "\n",
        "Test input:  \n",
        "min = 3  \n",
        "max = 24  \n",
        "1  \n",
        "45  \n",
        "20  \n",
        "\n",
        "Expected output:  \n",
        "Number is out of range, try again  \n",
        "Number is out of range, try again  \n",
        "20"
      ]
    },
    {
      "cell_type": "code",
      "execution_count": 51,
      "metadata": {
        "id": "T52__8lJe9nV",
        "colab": {
          "base_uri": "https://localhost:8080/"
        },
        "outputId": "66b6bc83-693e-4ec1-b055-f74a3ba7e010"
      },
      "outputs": [
        {
          "output_type": "stream",
          "name": "stdout",
          "text": [
            "Enter number between 3 and 24: 1\n",
            "Number is out of range, try again\n",
            "Enter number between 3 and 24: 45\n",
            "Number is out of range, try again\n",
            "Enter number between 3 and 24: 20\n",
            "20\n"
          ]
        }
      ],
      "source": [
        "def input_value(min, max):\n",
        "  while True:\n",
        "    try:\n",
        "      number=int(input(\"Enter number between \" + str(min) + \" and \" + str(max) + \": \"))\n",
        "      if min <= number <= max:\n",
        "        return number\n",
        "      else:\n",
        "        print(\"Number is out of range, try again\")\n",
        "    except ValueError:\n",
        "      print(\"That number is not valid, try again\")\n",
        "\n",
        "print(input_value(3, 24))"
      ]
    },
    {
      "cell_type": "markdown",
      "metadata": {
        "id": "KyUdHbDUe9u-"
      },
      "source": [
        "---\n",
        "### Exercise 3 - re-using the function\n",
        "\n",
        "Using the same function as in Exercise 2 above, try running it with these function calls:\n",
        "\n",
        "```\n",
        "value1 = input_value(1,10)\n",
        "value2 = input_value(11,20)\n",
        "value3 = input_value(21,30)\n",
        "print(value1, value2, value3)\n",
        "```"
      ]
    },
    {
      "cell_type": "code",
      "execution_count": 52,
      "metadata": {
        "id": "RMyIK2GEfFW8",
        "colab": {
          "base_uri": "https://localhost:8080/"
        },
        "outputId": "a21c3da7-dd16-46bd-b2cf-67084b4bde8b"
      },
      "outputs": [
        {
          "output_type": "stream",
          "name": "stdout",
          "text": [
            "Enter number between 1 and 10: 2\n",
            "Enter number between 11 and 20: 13\n",
            "Enter number between 21 and 30: 9\n",
            "Number is out of range, try again\n",
            "Enter number between 21 and 30: 8\n",
            "Number is out of range, try again\n",
            "Enter number between 21 and 30: 22\n",
            "2 13 22\n"
          ]
        }
      ],
      "source": [
        "def input_value(min, max):\n",
        "  while True:\n",
        "    try:\n",
        "      number=int(input(\"Enter number between \" + str(min) + \" and \" + str(max) + \": \"))\n",
        "      if min <= number <= max:\n",
        "        return number\n",
        "      else:\n",
        "        print(\"Number is out of range, try again\")\n",
        "    except ValueError:\n",
        "      print(\"That number is not valid, try again\")\n",
        "\n",
        "value1 = input_value(1,10)\n",
        "value2 = input_value(11,20)\n",
        "value3 = input_value(21,30)\n",
        "print(value1, value2, value3)"
      ]
    },
    {
      "cell_type": "markdown",
      "metadata": {
        "id": "cf41a3agfGKu"
      },
      "source": [
        "---\n",
        "### Exercise 4 - generate random even number\n",
        "\n",
        "Write a function called **generate_even_number()** that will generate a random, even **number** and return it to the caller, which will print it.\n",
        "\n",
        "*Hint: the function will need to generate the number, check it is an even number, repeat if not and return the number once it has got an even number*."
      ]
    },
    {
      "cell_type": "code",
      "execution_count": 44,
      "metadata": {
        "id": "m0AYnl0ifG9i",
        "colab": {
          "base_uri": "https://localhost:8080/"
        },
        "outputId": "0c2a0740-f33e-475f-875f-08245653096b"
      },
      "outputs": [
        {
          "output_type": "stream",
          "name": "stdout",
          "text": [
            "34\n"
          ]
        }
      ],
      "source": [
        "from random import randint\n",
        "\n",
        "def generate_even_number():\n",
        "  while True:\n",
        "    number=randint(1,100)\n",
        "    if number % 2==0:\n",
        "      return number\n",
        "\n",
        "print(generate_even_number())\n"
      ]
    },
    {
      "cell_type": "markdown",
      "metadata": {
        "id": "35dtxVARfHsM"
      },
      "source": [
        "---\n",
        "### Exercise 5 - biggest of 3 numbers\n",
        "\n",
        "Write a function called **check_largest(num1, num2, num3)** which will:  \n",
        "*  select the largest of `num1`, `num2` and `num3` and store this in a variable called **largest**\n",
        "*  return `largest` to the caller, where it will be printed.\n",
        "\n",
        "Test input:  \n",
        "check_largest(3,5,8)  \n",
        "check_largest(5,7,2)  \n",
        "check_largest(123,45,122)\n",
        "\n",
        "Expected output:  \n",
        "8  \n",
        "7  \n",
        "123  "
      ]
    },
    {
      "cell_type": "code",
      "execution_count": 29,
      "metadata": {
        "id": "XFKwrGDZfILE",
        "colab": {
          "base_uri": "https://localhost:8080/"
        },
        "outputId": "e540c362-d3af-41b1-c7e7-1fffb3e4d712"
      },
      "outputs": [
        {
          "output_type": "stream",
          "name": "stdout",
          "text": [
            "8\n",
            "7\n",
            "123\n"
          ]
        }
      ],
      "source": [
        "def check_largest(num1, num2, num3):\n",
        "  largest=max(num1, num2, num3)\n",
        "  return largest\n",
        "\n",
        "print(check_largest(3,5,8))\n",
        "print(check_largest(5,7,2))\n",
        "print(check_largest(123,45,122))"
      ]
    },
    {
      "cell_type": "markdown",
      "metadata": {
        "id": "aS789eG1fJM4"
      },
      "source": [
        "---\n",
        "### Exercise 6 - average of 5 numbers\n",
        "\n",
        "Write a function calculate_average(num1, num2, num3, num4, num5) which will calculate the average of the 5 numbers given.  \n",
        "\n",
        "Test input:  \n",
        "calculate_average(1,2,3,4,5)  \n",
        "calculate_average(10002, 30004, 5005, 3333333, 12345)  \n",
        "\n",
        "Expected output:  \n",
        "3.0  \n",
        "678137.8"
      ]
    },
    {
      "cell_type": "code",
      "execution_count": null,
      "metadata": {
        "id": "vZvMRWbefJqv",
        "colab": {
          "base_uri": "https://localhost:8080/"
        },
        "outputId": "89c1bcb7-6b4a-4720-80a1-d6750c26b624"
      },
      "outputs": [
        {
          "output_type": "execute_result",
          "data": {
            "text/plain": [
              "3.0"
            ]
          },
          "metadata": {},
          "execution_count": 45
        }
      ],
      "source": [
        "def calculate_average(num1, num2, num3, num4, num5):\n",
        "  average=(num1 + num2 + num3 + num4 + num5)/5\n",
        "  return average\n",
        "\n",
        "calculate_average(1,2,3,4,5)\n",
        "#calculate_average(10002, 30004, 5005, 3333333, 12345)\n",
        "\n"
      ]
    },
    {
      "cell_type": "markdown",
      "metadata": {
        "id": "NXBBYKJ4fKfM"
      },
      "source": [
        "---\n",
        "### Exercise 7 - calculate price\n",
        "\n",
        "Write a function called **calculate_price(product_price, items)** which will:\n",
        "\n",
        "*  ask the user to enter any **discount** they have (this can be 10% or 25% only), if the discount value is invalid, do not apply a discount   \n",
        "*  calculate the price of the items, including the discount\n",
        "*  return the `discounted price`\n",
        "\n",
        "Test input:  \n",
        "product_price is 3.50  \n",
        "number of items is 4  \n",
        "user enters discount of 10%  \n",
        "\n",
        "Expected output:  \n",
        "Discounted price: £ 12.60\n",
        "\n",
        "Test input:  \n",
        "product_price is 8.99  \n",
        "number of items is 10  \n",
        "user enters discount of 50%   \n",
        "\n",
        "Expected output:  \n",
        "Discounted price: £ 89.90  "
      ]
    },
    {
      "cell_type": "code",
      "execution_count": 22,
      "metadata": {
        "id": "PxWHPndffK_c",
        "colab": {
          "base_uri": "https://localhost:8080/"
        },
        "outputId": "8bcebab5-9420-4e00-cd4b-cd7f5003914c"
      },
      "outputs": [
        {
          "name": "stdout",
          "output_type": "stream",
          "text": [
            "Is discount 10% or 25%? 25\n"
          ]
        },
        {
          "output_type": "execute_result",
          "data": {
            "text/plain": [
              "67.425"
            ]
          },
          "metadata": {},
          "execution_count": 22
        }
      ],
      "source": [
        "def calculate_price(product_price, items):\n",
        "  discount=int(input(\"Is discount 10% or 25%? \"))\n",
        "  if discount==10 or discount==25:\n",
        "    discounted_price=product_price*(1-discount/100)\n",
        "    total_cost=discounted_price*items\n",
        "    return total_cost\n",
        "\n",
        "  else:\n",
        "    return product_price*items\n",
        "\n",
        "calculate_price(8.99, 10)\n"
      ]
    },
    {
      "cell_type": "markdown",
      "metadata": {
        "id": "LlQxTvzwfLxC"
      },
      "source": [
        "---\n",
        "### Exercise 8 - reverse a string\n",
        "\n",
        " Write a function called **reverse_string(word)** which will:  \n",
        "\n",
        " *  reverse the letters in the word  \n",
        " *  return the **reversed** `word` for printing\n",
        "\n",
        "[Help if you need it](https://www.w3schools.com/python/python_howto_reverse_string.asp)  \n",
        "\n",
        " Test input:  \n",
        " tiger  \n",
        "\n",
        " Expected output:  \n",
        " regit\n",
        "\n",
        " Test input:  \n",
        " Expected\n",
        "\n",
        " Expected output:  \n",
        " detcepxE"
      ]
    },
    {
      "cell_type": "code",
      "execution_count": 41,
      "metadata": {
        "id": "qoDDgHXufMQI",
        "colab": {
          "base_uri": "https://localhost:8080/"
        },
        "outputId": "426bb1eb-c36d-4f8a-a085-bf0f50297efb"
      },
      "outputs": [
        {
          "output_type": "stream",
          "name": "stdout",
          "text": [
            "detcepxE\n"
          ]
        }
      ],
      "source": [
        "def reverse_string(word):\n",
        "  reversed_word=word[::-1]\n",
        "  return reversed_word\n",
        "\n",
        "print(reverse_string(\"Expected\"))\n"
      ]
    },
    {
      "cell_type": "markdown",
      "metadata": {
        "id": "MyJHOJsSfNEr"
      },
      "source": [
        "---\n",
        "### Exercise 9 - find factorial\n",
        "\n",
        "Write a function called **calculate_factorial(num)** which will:\n",
        "\n",
        "*  if `num` is negative set **factorial** to -1\n",
        "*  if `num` isn't negative, if it is 0 then set `factorial` to 1\n",
        "*  if `num` isn't 0 then calculate `factorial` (multiply the numbers from `num` down to 1\n",
        "*  return `factorial`.   \n",
        "\n",
        "Test inputs:  \n",
        "calculate_factorial(5)  \n",
        "calculate_factorial(-5)  \n",
        "calculate_factorial(0)    \n",
        "\n",
        "Expected outputs:  \n",
        "120  \n",
        "-1  \n",
        "1    "
      ]
    },
    {
      "cell_type": "code",
      "execution_count": 27,
      "metadata": {
        "id": "GUgtmREOfNgN",
        "colab": {
          "base_uri": "https://localhost:8080/"
        },
        "outputId": "68508067-732e-4352-e427-e9fc39725665"
      },
      "outputs": [
        {
          "output_type": "execute_result",
          "data": {
            "text/plain": [
              "1"
            ]
          },
          "metadata": {},
          "execution_count": 27
        }
      ],
      "source": [
        "def calcualte_factorial(num):\n",
        "  if num<0:\n",
        "    factorial=-1\n",
        "  else:\n",
        "    if num==0:\n",
        "      factorial=1\n",
        "    else:\n",
        "      factorial=1\n",
        "      for i in range(1, num+1):\n",
        "        factorial*=i\n",
        "\n",
        "  return factorial\n",
        "\n",
        "calcualte_factorial(0)"
      ]
    },
    {
      "cell_type": "markdown",
      "metadata": {
        "id": "-bW-9M8MfOMq"
      },
      "source": [
        "---\n",
        "### Exercise 10 - palindrome  \n",
        "\n",
        "Write a function called **is_palindrome(word)** which will return True if the `word` passed in is a palindrome (ie it reads the same in reverse) and False if not.\n",
        "\n",
        "*Hint:  remember that upper case and lower case letters are not seen as the same by Python, there are [case conversion](https://www.codecademy.com/learn/learn-python-3/modules/learn-python3-strings/cheatsheet) functions you can use to help with this.*\n",
        "\n",
        "Test input:  \n",
        "is_palindrome(\"racecar\")  \n",
        "is_palindrome(\"Racecar\")  \n",
        "is_palindrome(\"banana\")  \n",
        "\n",
        "Expected output:  \n",
        "True  \n",
        "True  \n",
        "False  "
      ]
    },
    {
      "cell_type": "code",
      "execution_count": 40,
      "metadata": {
        "id": "0DcDt-MifOf0",
        "colab": {
          "base_uri": "https://localhost:8080/"
        },
        "outputId": "982d1393-8897-4ee3-993f-d87fafdbaf0b"
      },
      "outputs": [
        {
          "output_type": "execute_result",
          "data": {
            "text/plain": [
              "True"
            ]
          },
          "metadata": {},
          "execution_count": 40
        }
      ],
      "source": [
        "def is_palindrome(word):\n",
        "  word=word.lower()\n",
        "  if word == word[::-1]:\n",
        "    return True\n",
        "  else:\n",
        "    return False\n",
        "\n",
        "is_palindrome(\"racecar\")\n"
      ]
    }
  ],
  "metadata": {
    "colab": {
      "provenance": [],
      "include_colab_link": true
    },
    "kernelspec": {
      "display_name": "Python 3",
      "name": "python3"
    },
    "language_info": {
      "name": "python"
    }
  },
  "nbformat": 4,
  "nbformat_minor": 0
}