{
  "cells": [
    {
      "cell_type": "markdown",
      "metadata": {
        "id": "view-in-github",
        "colab_type": "text"
      },
      "source": [
        "<a href=\"https://colab.research.google.com/github/adamk505/data-and-python/blob/main/Copy_of_PythonFunctions_Datetime_fin.ipynb\" target=\"_parent\"><img src=\"https://colab.research.google.com/assets/colab-badge.svg\" alt=\"Open In Colab\"/></a>"
      ]
    },
    {
      "cell_type": "markdown",
      "metadata": {
        "id": "Vvcpt-18AqVE"
      },
      "source": [
        "<a href=\"https://colab.research.google.com/github/StefanMeyer7/Python-Fundamentals/blob/main/PythonFunctions_Datetime.ipynb\" target=\"_parent\"><img src=\"https://colab.research.google.com/assets/colab-badge.svg\" alt=\"Open In Colab\"/></a>"
      ]
    },
    {
      "cell_type": "markdown",
      "metadata": {
        "id": "nP_edUEZceHu"
      },
      "source": [
        "# User-defined functions using datetime library\n",
        "\n",
        "---\n"
      ]
    },
    {
      "cell_type": "markdown",
      "metadata": {
        "id": "GDXBwTsRceya"
      },
      "source": [
        "When working with dates and times, fairly common in data sets, we need to be able to extract certain bits of information.  \n",
        "\n",
        "In Python, as with other languages, dates and times are stored in a data structure that combines the two together and stores the information as a number of seconds since a start point (often 1st January 1900).  This is obviously a large number but every bit of information about a date can be extracted from it and used to give a wide range of information.  \n",
        "\n",
        "Have a go at the exercises below to use a selection of datetime functions and return a new bit of data from each, to be printed by the caller.\n",
        "\n",
        "Before you can use datetime functions you will need to import them. Import the datetime functions like this:\n",
        "\n",
        "`from datetime import datetime`  \n",
        "\n",
        "\n",
        "For more information about datetime functions visit [w3Schools-Python datetime](https://www.w3schools.com/python/python_datetime.asp) and [Python docs](https://docs.python.org/3/library/datetime.html)"
      ]
    },
    {
      "cell_type": "markdown",
      "metadata": {
        "id": "rzT7PoS9cgpc"
      },
      "source": [
        "---\n",
        "### Exercise 1 - print current date and time\n",
        "\n",
        "Write a function that will return the date and time now.  The caller will print it.  \n",
        "\n",
        "*Hint:  the format has been added for you, the other exercises will follow a similar format.   Always remember to import datetime from datetime as shown below*"
      ]
    },
    {
      "cell_type": "code",
      "execution_count": null,
      "metadata": {
        "id": "pbPPKT1DciHO",
        "colab": {
          "base_uri": "https://localhost:8080/"
        },
        "outputId": "b4e6d7ca-8251-4498-f1b2-5a9614f0add0"
      },
      "outputs": [
        {
          "output_type": "stream",
          "name": "stdout",
          "text": [
            "2023-12-14 20:04:43.002961\n"
          ]
        }
      ],
      "source": [
        "from datetime import datetime, timezone\n",
        "\n",
        "def get_datetime_now():\n",
        "  now_date_time=datetime.now()\n",
        "  return now_date_time\n",
        "\n",
        "\n",
        "\n",
        "now_date_time = get_datetime_now()\n",
        "print(now_date_time)"
      ]
    },
    {
      "cell_type": "markdown",
      "metadata": {
        "id": "-Ep29Zcqcj2J"
      },
      "source": [
        "---\n",
        "Exercise 2 - print the current year\n",
        "\n",
        "Write a function that will return the current year.  The caller will print the year."
      ]
    },
    {
      "cell_type": "code",
      "execution_count": null,
      "metadata": {
        "id": "mvG4Fc4GcklO",
        "colab": {
          "base_uri": "https://localhost:8080/"
        },
        "outputId": "01632934-79c1-4909-f587-bf3405428abd"
      },
      "outputs": [
        {
          "output_type": "stream",
          "name": "stdout",
          "text": [
            "2023\n"
          ]
        }
      ],
      "source": [
        "from datetime import datetime, timezone\n",
        "\n",
        "def get_year():\n",
        "  current_year=datetime.now().year\n",
        "  return current_year\n",
        "\n",
        "current_year=get_year()\n",
        "print(current_year)"
      ]
    },
    {
      "cell_type": "markdown",
      "metadata": {
        "id": "AVu3ZVE3cljj"
      },
      "source": [
        "---\n",
        "### Exercise 3 - print the current day of the week\n",
        "\n",
        "Write a function that will return the current day of the week.  The caller will print it."
      ]
    },
    {
      "cell_type": "code",
      "execution_count": 12,
      "metadata": {
        "id": "YGdApxsLcmSS",
        "colab": {
          "base_uri": "https://localhost:8080/"
        },
        "outputId": "98bf7e1f-522d-482b-d4d7-313df1534f50"
      },
      "outputs": [
        {
          "output_type": "stream",
          "name": "stdout",
          "text": [
            "Saturday\n"
          ]
        }
      ],
      "source": [
        "from datetime import datetime, timezone\n",
        "\n",
        "def get_week():\n",
        "  current_day = datetime.now().weekday()\n",
        "  days_of_week = (\"Monday\", \"Tuesday\", \"Wednesday\", \"Thursday\", \"Friday\", \"Saturday\", \"Sunday\")\n",
        "  current_day_name = days_of_week[current_day]\n",
        "\n",
        "  return current_day_name\n",
        "\n",
        "current_day_name=get_week()\n",
        "print(current_day_name)"
      ]
    },
    {
      "cell_type": "markdown",
      "metadata": {
        "id": "PkkISgZscnZ3"
      },
      "source": [
        "---\n",
        "### Exercise 4 - create a new date\n",
        "\n",
        "Write a function that will take 3 parameters, day, month, year (3 numbers that make a valid date) and will create, and return a new date.  The caller will print the date."
      ]
    },
    {
      "cell_type": "code",
      "execution_count": 13,
      "metadata": {
        "id": "7XXYuEhDcnz7",
        "colab": {
          "base_uri": "https://localhost:8080/"
        },
        "outputId": "2ad8edda-1d6d-47ff-b92d-21e5c69b750f"
      },
      "outputs": [
        {
          "output_type": "stream",
          "name": "stdout",
          "text": [
            "2023-03-12 00:00:00\n"
          ]
        }
      ],
      "source": [
        "from datetime import datetime, timezone\n",
        "\n",
        "def create_date(day, month, year):\n",
        "  new_date = datetime(year, month, day)\n",
        "  return new_date\n",
        "\n",
        "\n",
        "print(create_date(12, 3, 2023))"
      ]
    },
    {
      "cell_type": "markdown",
      "metadata": {
        "id": "LGb976a3coqq"
      },
      "source": [
        "---\n",
        "### Exercise 5 - create a valid date\n",
        "\n",
        "Write a function that will take 3 parameters, day, month, year (3 numbers) and will:  \n",
        "*   check that the month is between 1 and 12  \n",
        "*   check that the day is valid for the month (e.g. if the month is 2, then the day must be between 1 and 28 (don't worry about leap years for the moment)  \n",
        "*   if the date is not valid, print an error message and return None (which the caller will print)  \n",
        "*   if the date is valid, store it in a new variable, return the variable and the caller will print it."
      ]
    },
    {
      "cell_type": "code",
      "execution_count": null,
      "metadata": {
        "id": "63Z80bSocpFc",
        "colab": {
          "base_uri": "https://localhost:8080/"
        },
        "outputId": "09240a45-1536-4ca2-cc54-80cace086352"
      },
      "outputs": [
        {
          "output_type": "stream",
          "name": "stdout",
          "text": [
            "2023-02-15 00:00:00\n"
          ]
        }
      ],
      "source": [
        "from datetime import datetime\n",
        "\n",
        "def create_valid_date(day, month, year):\n",
        "    if not 1 <= month <= 12:\n",
        "        print(\"Invalid date\")\n",
        "        return None\n",
        "    if month == 2:\n",
        "        max_days = 28\n",
        "    elif month in [4, 6, 9, 11]:\n",
        "        max_days = 30\n",
        "    else:\n",
        "        max_days = 31\n",
        "    if not 1 <= day <= max_days:\n",
        "        print(\"Invalid date\")\n",
        "        return None\n",
        "    valid_date = datetime(year, month, day)\n",
        "    return valid_date\n",
        "\n",
        "\n",
        "date_check = create_valid_date(15, 2, 2023)\n",
        "if date_check is not None:\n",
        "    print(date_check)\n"
      ]
    },
    {
      "cell_type": "markdown",
      "metadata": {
        "id": "R5ZBHZXScqYQ"
      },
      "source": [
        "---\n",
        "### Exercise 6 - is it a leap year?\n",
        "\n",
        "Write a function that will take a date as a parameter (you will need to create the date variable before calling the function) and will determine if it is a leap year, returning True or False.\n",
        "\n",
        "*Hint:  a leap year is a year that is divisible by 4 but the centuries (1900, 2000, etc are only leap years if they are divisible by 400)*"
      ]
    },
    {
      "cell_type": "code",
      "execution_count": 15,
      "metadata": {
        "id": "pj8Y8PAqcq4u",
        "colab": {
          "base_uri": "https://localhost:8080/"
        },
        "outputId": "3ff0428c-013c-4395-93d4-2f7da11cb1e9"
      },
      "outputs": [
        {
          "output_type": "stream",
          "name": "stdout",
          "text": [
            "2000 is a leap year\n"
          ]
        }
      ],
      "source": [
        "from datetime import datetime\n",
        "def is_leap_year(date_to_check):\n",
        "\n",
        "  year = date_to_check.year\n",
        "  if (year % 4 == 0 and year % 100 != 0) or (year % 400 == 0):\n",
        "      return True\n",
        "  else:\n",
        "      return False\n",
        "\n",
        "check_date = datetime(2000, 12, 15)\n",
        "if is_leap_year(check_date):\n",
        "  print(check_date.strftime(\"%Y\"), \"is a leap year\")\n",
        "else:\n",
        "  print(check_date.strftime(\"%Y\"), \"is not a leap year\")"
      ]
    },
    {
      "cell_type": "markdown",
      "metadata": {
        "id": "7SIry7OwcuMS"
      },
      "source": [
        "---\n",
        "### Exercise 7 - display parts of date/time\n",
        "\n",
        "Write a function that will take a date and print from it the following:  \n",
        "*  given date and time  \n",
        "*  year (in full)\n",
        "*  month (as a number)\n",
        "*  month name\n",
        "*  week number of the year  \n",
        "*  weekday of the week (as a number)  \n",
        "*  day of year  \n",
        "*  day of the month  \n",
        "*  day of week (as a name)  \n",
        "\n",
        "*Hint:  see w3Schools for [strftime reference](https://www.w3schools.com/python/python_datetime.asp)*\n",
        "\n"
      ]
    },
    {
      "cell_type": "code",
      "execution_count": 7,
      "metadata": {
        "id": "iKsefU9ncuzl",
        "colab": {
          "base_uri": "https://localhost:8080/"
        },
        "outputId": "3b7d9f76-cf18-4158-bd48-c806c42eb2e9"
      },
      "outputs": [
        {
          "output_type": "stream",
          "name": "stdout",
          "text": [
            "Given Date and Time: 2022-03-16 00:00:00\n",
            "Year (in full): 2022\n",
            "Month (as a number): 3\n",
            "Month Name: March\n",
            "Week Number of the Year: 11\n",
            "Weekday of the Week (as a number): 2\n",
            "Day of Year: 75\n",
            "Day of the Month: 16\n",
            "Day of Week (as a name): Wednesday\n"
          ]
        }
      ],
      "source": [
        "from datetime import datetime\n",
        "\n",
        "def print_date_info(input_date):\n",
        "    date_object = datetime.strptime(input_date, '%Y-%m-%d')\n",
        "\n",
        "    print(\"Given Date and Time:\", date_object)\n",
        "    print(\"Year (in full):\", date_object.year)\n",
        "    print(\"Month (as a number):\", date_object.month)\n",
        "    print(\"Month Name:\", date_object.strftime('%B'))\n",
        "    print(\"Week Number of the Year:\", date_object.strftime('%U'))\n",
        "    print(\"Weekday of the Week (as a number):\", date_object.weekday())\n",
        "    print(\"Day of Year:\", date_object.timetuple().tm_yday)\n",
        "    print(\"Day of the Month:\", date_object.day)\n",
        "    print(\"Day of Week (as a name):\", date_object.strftime('%A'))\n",
        "\n",
        "\n",
        "print_date_info(\"2022-3-16\")"
      ]
    },
    {
      "cell_type": "markdown",
      "metadata": {
        "id": "fvDfw6C6cvwA"
      },
      "source": [
        "---\n",
        "### Exercise 8 - next 6 days\n",
        "\n",
        "Write a function that will take a date and generate the dates of the following 6 days.  It should print each of the 6 days in the form:  \n",
        "\n",
        "DAY OF THE WEEK, MONTH NAME, FULL YEAR\n",
        "\n",
        "Hint:  to generate the days, use the function datetime.timedelta(), there is a good example of its use [here](https://www.geeksforgeeks.org/python-datetime-timedelta-function/)  "
      ]
    },
    {
      "cell_type": "code",
      "execution_count": 8,
      "metadata": {
        "id": "qPrZzv7_cwJi",
        "colab": {
          "base_uri": "https://localhost:8080/"
        },
        "outputId": "b51eb2b8-3107-41fa-a421-90dce161a967"
      },
      "outputs": [
        {
          "output_type": "stream",
          "name": "stdout",
          "text": [
            "Saturday, December 16, 2023\n",
            "Sunday, December 17, 2023\n",
            "Monday, December 18, 2023\n",
            "Tuesday, December 19, 2023\n",
            "Wednesday, December 20, 2023\n",
            "Thursday, December 21, 2023\n"
          ]
        }
      ],
      "source": [
        "from datetime import datetime, timedelta\n",
        "\n",
        "def print_next_six_days(input_date):\n",
        "    date_object = datetime.strptime(input_date, '%Y-%m-%d')\n",
        "    for i in range(6):\n",
        "        next_day = date_object + timedelta(days=i)\n",
        "        print(next_day.strftime('%A, %B %d, %Y'))\n",
        "\n",
        "\n",
        "print_next_six_days(\"2023-12-16\")"
      ]
    }
  ],
  "metadata": {
    "colab": {
      "provenance": [],
      "include_colab_link": true
    },
    "kernelspec": {
      "display_name": "Python 3",
      "name": "python3"
    },
    "language_info": {
      "name": "python"
    }
  },
  "nbformat": 4,
  "nbformat_minor": 0
}