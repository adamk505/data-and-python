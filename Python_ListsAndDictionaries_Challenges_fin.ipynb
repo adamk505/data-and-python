{
  "cells": [
    {
      "cell_type": "markdown",
      "metadata": {
        "id": "view-in-github",
        "colab_type": "text"
      },
      "source": [
        "<a href=\"https://colab.research.google.com/github/adamk505/data-and-python/blob/main/Python_ListsAndDictionaries_Challenges_fin.ipynb\" target=\"_parent\"><img src=\"https://colab.research.google.com/assets/colab-badge.svg\" alt=\"Open In Colab\"/></a>"
      ]
    },
    {
      "cell_type": "markdown",
      "metadata": {
        "id": "Vvcpt-18AqVE"
      },
      "source": [
        "<a href=\"https://colab.research.google.com/github/StefanMeyer7/Python-Fundamentals/blob/main/PythonListsAndDictionaries_Challenges.ipynb\" target=\"_parent\"><img src=\"https://colab.research.google.com/assets/colab-badge.svg\" alt=\"Open In Colab\"/></a>"
      ]
    },
    {
      "cell_type": "markdown",
      "metadata": {
        "id": "W4CdIbiFfeG3"
      },
      "source": [
        "# Some challenges to help you become more confident with using Lists, Tuples and Dictionaries\n",
        "\n",
        "---\n",
        "\n"
      ]
    },
    {
      "cell_type": "markdown",
      "metadata": {
        "id": "WaIu0Ye9ffOl"
      },
      "source": [
        "### Exercise 1 - extending a list\n",
        "\n",
        "There are three ways to extend a list in Python:  \n",
        "*  use `list_name.append(item)`, `list_name.insert(item)`\n",
        "*  concatenate two lists using the + operator (e.g. new_list = list1 + list2)\n",
        "*  use `list1_name.extend(list2_name)`\n",
        "\n",
        "The last method allows us to add all the `list2` items onto `list1` and for the new, extended list to now be `list1`.  `list2` will always be added to the end of `list1`.  \n",
        "\n",
        "If the objective is to add list2 before list1 then use `list2.extend(list1)`\n",
        "\n",
        "Write a function which will:  \n",
        "*  create a list of **years** containing the years 1960, 1970, 1980, 1990, 2000  \n",
        "*  print the list of years  \n",
        "*  calculate how long ago each year was and print the year and how long ago it was (e.g. 1990 was 30 years ago)  *(Hint:  use the datetime library to get the current year)*   \n",
        "*  create a second list, **years2** containing the years 2010 and 2020, extend `years` to include these later years\n",
        "*  create a third list, **years3** containing the years 1930, 1940 and 1950 and extend the list to include all the years between 1930 and 2020\n",
        "*  print the final list\n",
        "\n",
        "Expected output:  \n",
        "[1960, 1970, 1980, 1990]  \n",
        "1960 was 61 years ago  \n",
        "1970 was 51 years ago  \n",
        "1980 was 41 years ago  \n",
        "1990 was 31 years ago  \n",
        "2000 was 21 years ago  \n",
        "[1930, 1940, 1950, 1960, 1970, 1980, 1990, 2000, 2010, 2020]"
      ]
    },
    {
      "cell_type": "code",
      "execution_count": null,
      "metadata": {
        "id": "WttlqF5-ffyw",
        "colab": {
          "base_uri": "https://localhost:8080/"
        },
        "outputId": "58751aca-cc36-4a65-d745-e1340c5d009b"
      },
      "outputs": [
        {
          "output_type": "stream",
          "name": "stdout",
          "text": [
            "[1960, 1970, 1980, 1990, 2000]\n",
            "1960 was 63 years ago\n",
            "1970 was 53 years ago\n",
            "1980 was 43 years ago\n",
            "1990 was 33 years ago\n",
            "2000 was 23 years ago\n",
            "[1930, 1940, 1950, 1960, 1970, 1980, 1990, 2000, 2010, 2020]\n"
          ]
        }
      ],
      "source": [
        "from datetime import datetime\n",
        "\n",
        "def manipulate_years():\n",
        "    years = [1960, 1970, 1980, 1990, 2000]\n",
        "    print(years)\n",
        "\n",
        "    current_year = datetime.now().year\n",
        "    for year in years:\n",
        "        years_ago = current_year - year\n",
        "        print(year, \"was\", years_ago, \"years ago\")\n",
        "\n",
        "    years2 = [2010, 2020]\n",
        "    years.extend(years2)\n",
        "\n",
        "    years3 = [1930, 1940, 1950]\n",
        "    years.extend(years3)\n",
        "\n",
        "    years = sorted(years)\n",
        "\n",
        "    print(years)\n",
        "\n",
        "manipulate_years()"
      ]
    },
    {
      "cell_type": "markdown",
      "metadata": {
        "id": "ORhAOgBLfg04"
      },
      "source": [
        "---\n",
        "### Exercise 2 - creating a dictionary from a tuple and three lists\n",
        "\n",
        "Write a function which will create a list of dictionary items using the values in a tuple as the dictionary keys and the values in three corresponding lists as the dictionary values.\n",
        "\n",
        "*  loop through the status items in the tuple called task_status\n",
        "*  for each status, loop through the list with the same name (*Hint:  you can use eval(status) to access the list with the matching name  e.g. for task in eval(status)* )\n",
        "*  each time round this second loop, create a dictionary object with the  key:value pair {status : task}\n",
        "*  add each new dictionary to a list called **project_board** that was created as an empty list before the loops  \n",
        "*  print the project_board list\n",
        "\n",
        "Expected output:  \n",
        "\n",
        "[{'assigned': 'task1'}, {'assigned': 'task2'}, {'assigned': 'task3'}, {'inprogress': 'task4'}, {'inprogress': 'task5'}, {'inprogress': 'task6'}, {'completed': 'task7'}, {'completed': 'task8'}, {'completed': 'task9'}]\n",
        "\n"
      ]
    },
    {
      "cell_type": "code",
      "execution_count": null,
      "metadata": {
        "id": "1Cxi97h8fiB6",
        "colab": {
          "base_uri": "https://localhost:8080/"
        },
        "outputId": "2c3c5202-69db-48fd-ca32-42c40644abe1"
      },
      "outputs": [
        {
          "output_type": "stream",
          "name": "stdout",
          "text": [
            "[{'assigned': 'task1'}, {'assigned': 'task2'}, {'assigned': 'task3'}, {'inprogress': 'task4'}, {'inprogress': 'task5'}, {'inprogress': 'task6'}, {'completed': 'task7'}, {'completed': 'task8'}, {'completed': 'task9'}]\n"
          ]
        }
      ],
      "source": [
        "def create_project_board():\n",
        "  task_status = (\"assigned\", \"inprogress\", \"completed\")\n",
        "  assigned = ['task1','task2','task3']\n",
        "  inprogress = ['task4','task5','task6']\n",
        "  completed = ['task7','task8','task9']\n",
        "\n",
        "  project_board = []\n",
        "\n",
        "  for status in task_status:\n",
        "    for task in eval(status):\n",
        "         project_board.append({status: task})\n",
        "\n",
        "  print(project_board)\n",
        "\n",
        "create_project_board()\n"
      ]
    },
    {
      "cell_type": "markdown",
      "metadata": {
        "id": "G66tj6DFfj2r"
      },
      "source": [
        "---\n",
        "### Exercise 3 - names and heights\n",
        "\n",
        "Write a function which will allow a user to enter the names and heights of a set of people and add each set of information as a record (dictionary) to a list. The function will stop collecting names and heights when the user enters \"STOP\" as the name.\n",
        "\n",
        "Then, the function will:  \n",
        "\n",
        "*   produce a list of names in order of the shortest person to the tallest\n",
        "*   calculate the name of the tallest person\n",
        "*   calculate the name of the shortest person\n",
        "*   calculate the average height\n",
        "*   calculate the name of the person who is closest to the average height\n",
        "\n",
        "\n",
        "\n",
        "\n"
      ]
    },
    {
      "cell_type": "code",
      "execution_count": null,
      "metadata": {
        "id": "5Mrul19ufkd2",
        "colab": {
          "base_uri": "https://localhost:8080/"
        },
        "outputId": "53ec52aa-ac05-4c42-c314-77e56910bcf4"
      },
      "outputs": [
        {
          "output_type": "stream",
          "name": "stdout",
          "text": [
            "Enter a name (or STOP to finish): dave\n",
            "Enter the height for dave: 180\n",
            "Enter a name (or STOP to finish): jim\n",
            "Enter the height for jim: 174\n",
            "Enter a name (or STOP to finish): bob\n",
            "Enter the height for bob: 169\n",
            "Enter a name (or STOP to finish): stop\n",
            "List of names in order of height:\n",
            "bob\n",
            "jim\n",
            "dave\n",
            "Tallest person: dave\n",
            "Shortest person: bob\n",
            "Average height: 174.33\n",
            "Person closest to average height: jim\n"
          ]
        }
      ],
      "source": [
        "def process_people_data():\n",
        "    people_list = []\n",
        "\n",
        "    while True:\n",
        "        name = input(\"Enter a name (or STOP to finish): \")\n",
        "\n",
        "        if name.upper() == \"STOP\":\n",
        "            break\n",
        "\n",
        "        height = float(input(\"Enter the height for {}: \".format(name)))\n",
        "\n",
        "        person_record = {\"name\": name, \"height\": height}\n",
        "        people_list.append(person_record)\n",
        "\n",
        "    sorted_people = sorted(people_list, key=lambda x: x[\"height\"])\n",
        "\n",
        "    print(\"List of names in order of height:\")\n",
        "    for person in sorted_people:\n",
        "        print(person[\"name\"])\n",
        "\n",
        "    tallest_person = sorted_people[-1][\"name\"]\n",
        "    print(\"Tallest person: {}\".format(tallest_person))\n",
        "\n",
        "    shortest_person = sorted_people[0][\"name\"]\n",
        "    print(\"Shortest person: {}\".format(shortest_person))\n",
        "\n",
        "    average_height = sum(person[\"height\"] for person in people_list) / len(people_list)\n",
        "    print(\"Average height: {:.2f}\".format(average_height))\n",
        "\n",
        "    closest_person = min(people_list, key=lambda x: abs(x[\"height\"] - average_height))[\"name\"]\n",
        "    print(\"Person closest to average height: {}\".format(closest_person))\n",
        "\n",
        "\n",
        "process_people_data()"
      ]
    }
  ],
  "metadata": {
    "colab": {
      "provenance": [],
      "include_colab_link": true
    },
    "kernelspec": {
      "display_name": "Python 3",
      "name": "python3"
    },
    "language_info": {
      "name": "python"
    }
  },
  "nbformat": 4,
  "nbformat_minor": 0
}